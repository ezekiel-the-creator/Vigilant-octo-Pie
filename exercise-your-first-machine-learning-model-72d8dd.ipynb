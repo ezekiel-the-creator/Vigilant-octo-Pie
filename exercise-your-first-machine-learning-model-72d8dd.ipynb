{
 "cells": [
  {
   "cell_type": "markdown",
   "id": "896544af",
   "metadata": {
    "papermill": {
     "duration": 0.006702,
     "end_time": "2023-03-16T17:35:46.889700",
     "exception": false,
     "start_time": "2023-03-16T17:35:46.882998",
     "status": "completed"
    },
    "tags": []
   },
   "source": [
    "**This notebook is an exercise in the [Introduction to Machine Learning](https://www.kaggle.com/learn/intro-to-machine-learning) course.  You can reference the tutorial at [this link](https://www.kaggle.com/dansbecker/your-first-machine-learning-model).**\n",
    "\n",
    "---\n"
   ]
  },
  {
   "cell_type": "markdown",
   "id": "a852d4ed",
   "metadata": {
    "papermill": {
     "duration": 0.004827,
     "end_time": "2023-03-16T17:35:46.899933",
     "exception": false,
     "start_time": "2023-03-16T17:35:46.895106",
     "status": "completed"
    },
    "tags": []
   },
   "source": [
    "## Recap\n",
    "So far, you have loaded your data and reviewed it with the following code. Run this cell to set up your coding environment where the previous step left off."
   ]
  },
  {
   "cell_type": "code",
   "execution_count": 1,
   "id": "661f9c95",
   "metadata": {
    "execution": {
     "iopub.execute_input": "2023-03-16T17:35:46.913050Z",
     "iopub.status.busy": "2023-03-16T17:35:46.912212Z",
     "iopub.status.idle": "2023-03-16T17:35:48.376327Z",
     "shell.execute_reply": "2023-03-16T17:35:48.374777Z"
    },
    "papermill": {
     "duration": 1.474196,
     "end_time": "2023-03-16T17:35:48.379333",
     "exception": false,
     "start_time": "2023-03-16T17:35:46.905137",
     "status": "completed"
    },
    "tags": []
   },
   "outputs": [
    {
     "name": "stdout",
     "output_type": "stream",
     "text": [
      "Setup Complete\n"
     ]
    }
   ],
   "source": [
    "# Code you have previously used to load data\n",
    "import pandas as pd\n",
    "\n",
    "# Path of the file to read\n",
    "iowa_file_path = '../input/home-data-for-ml-course/train.csv'\n",
    "\n",
    "home_data = pd.read_csv(iowa_file_path)\n",
    "\n",
    "# Set up code checking\n",
    "from learntools.core import binder\n",
    "binder.bind(globals())\n",
    "from learntools.machine_learning.ex3 import *\n",
    "\n",
    "print(\"Setup Complete\")"
   ]
  },
  {
   "cell_type": "markdown",
   "id": "0730229b",
   "metadata": {
    "papermill": {
     "duration": 0.005996,
     "end_time": "2023-03-16T17:35:48.392002",
     "exception": false,
     "start_time": "2023-03-16T17:35:48.386006",
     "status": "completed"
    },
    "tags": []
   },
   "source": [
    "# Exercises\n",
    "\n",
    "## Step 1: Specify Prediction Target\n",
    "Select the target variable, which corresponds to the sales price. Save this to a new variable called `y`. You'll need to print a list of the columns to find the name of the column you need.\n"
   ]
  },
  {
   "cell_type": "code",
   "execution_count": 2,
   "id": "004af5d7",
   "metadata": {
    "collapsed": true,
    "execution": {
     "iopub.execute_input": "2023-03-16T17:35:48.406603Z",
     "iopub.status.busy": "2023-03-16T17:35:48.404957Z",
     "iopub.status.idle": "2023-03-16T17:35:48.412374Z",
     "shell.execute_reply": "2023-03-16T17:35:48.411125Z"
    },
    "jupyter": {
     "outputs_hidden": true
    },
    "papermill": {
     "duration": 0.016776,
     "end_time": "2023-03-16T17:35:48.414783",
     "exception": false,
     "start_time": "2023-03-16T17:35:48.398007",
     "status": "completed"
    },
    "tags": []
   },
   "outputs": [],
   "source": [
    "# print the list of columns in the dataset to find the name of the prediction target\n"
   ]
  },
  {
   "cell_type": "code",
   "execution_count": 3,
   "id": "07b1b5bc",
   "metadata": {
    "execution": {
     "iopub.execute_input": "2023-03-16T17:35:48.429154Z",
     "iopub.status.busy": "2023-03-16T17:35:48.427904Z",
     "iopub.status.idle": "2023-03-16T17:35:48.445641Z",
     "shell.execute_reply": "2023-03-16T17:35:48.444184Z"
    },
    "papermill": {
     "duration": 0.027852,
     "end_time": "2023-03-16T17:35:48.448113",
     "exception": false,
     "start_time": "2023-03-16T17:35:48.420261",
     "status": "completed"
    },
    "tags": []
   },
   "outputs": [
    {
     "data": {
      "application/javascript": [
       "parent.postMessage({\"jupyterEvent\": \"custom.exercise_interaction\", \"data\": {\"outcomeType\": 1, \"valueTowardsCompletion\": 0.25, \"interactionType\": 1, \"questionType\": 2, \"questionId\": \"1_SetTarget\", \"learnToolsVersion\": \"0.3.4\", \"failureMessage\": \"\", \"exceptionClass\": \"\", \"trace\": \"\"}}, \"*\")"
      ],
      "text/plain": [
       "<IPython.core.display.Javascript object>"
      ]
     },
     "metadata": {},
     "output_type": "display_data"
    },
    {
     "data": {
      "text/markdown": [
       "<span style=\"color:#33cc33\">Correct</span>"
      ],
      "text/plain": [
       "Correct"
      ]
     },
     "metadata": {},
     "output_type": "display_data"
    }
   ],
   "source": [
    "y = home_data.SalePrice\n",
    "\n",
    "# Check your answer\n",
    "step_1.check()"
   ]
  },
  {
   "cell_type": "code",
   "execution_count": 4,
   "id": "379636ab",
   "metadata": {
    "execution": {
     "iopub.execute_input": "2023-03-16T17:35:48.467855Z",
     "iopub.status.busy": "2023-03-16T17:35:48.466625Z",
     "iopub.status.idle": "2023-03-16T17:35:48.472346Z",
     "shell.execute_reply": "2023-03-16T17:35:48.471371Z"
    },
    "papermill": {
     "duration": 0.018819,
     "end_time": "2023-03-16T17:35:48.474728",
     "exception": false,
     "start_time": "2023-03-16T17:35:48.455909",
     "status": "completed"
    },
    "tags": []
   },
   "outputs": [],
   "source": [
    "# The lines below will show you a hint or the solution.\n",
    "# step_1.hint() \n",
    "# step_1.solution()"
   ]
  },
  {
   "cell_type": "markdown",
   "id": "4e929760",
   "metadata": {
    "papermill": {
     "duration": 0.005269,
     "end_time": "2023-03-16T17:35:48.485988",
     "exception": false,
     "start_time": "2023-03-16T17:35:48.480719",
     "status": "completed"
    },
    "tags": []
   },
   "source": [
    "## Step 2: Create X\n",
    "Now you will create a DataFrame called `X` holding the predictive features.\n",
    "\n",
    "Since you want only some columns from the original data, you'll first create a list with the names of the columns you want in `X`.\n",
    "\n",
    "You'll use just the following columns in the list (you can copy and paste the whole list to save some typing, though you'll still need to add quotes):\n",
    "  * LotArea\n",
    "  * YearBuilt\n",
    "  * 1stFlrSF\n",
    "  * 2ndFlrSF\n",
    "  * FullBath\n",
    "  * BedroomAbvGr\n",
    "  * TotRmsAbvGrd\n",
    "\n",
    "After you've created that list of features, use it to create the DataFrame that you'll use to fit the model."
   ]
  },
  {
   "cell_type": "code",
   "execution_count": 5,
   "id": "888c7f4b",
   "metadata": {
    "execution": {
     "iopub.execute_input": "2023-03-16T17:35:48.499862Z",
     "iopub.status.busy": "2023-03-16T17:35:48.498849Z",
     "iopub.status.idle": "2023-03-16T17:35:48.514695Z",
     "shell.execute_reply": "2023-03-16T17:35:48.513700Z"
    },
    "papermill": {
     "duration": 0.025664,
     "end_time": "2023-03-16T17:35:48.517164",
     "exception": false,
     "start_time": "2023-03-16T17:35:48.491500",
     "status": "completed"
    },
    "tags": []
   },
   "outputs": [
    {
     "data": {
      "application/javascript": [
       "parent.postMessage({\"jupyterEvent\": \"custom.exercise_interaction\", \"data\": {\"outcomeType\": 1, \"valueTowardsCompletion\": 0.25, \"interactionType\": 1, \"questionType\": 2, \"questionId\": \"2_SelectPredictionData\", \"learnToolsVersion\": \"0.3.4\", \"failureMessage\": \"\", \"exceptionClass\": \"\", \"trace\": \"\"}}, \"*\")"
      ],
      "text/plain": [
       "<IPython.core.display.Javascript object>"
      ]
     },
     "metadata": {},
     "output_type": "display_data"
    },
    {
     "data": {
      "text/markdown": [
       "<span style=\"color:#33cc33\">Correct</span>"
      ],
      "text/plain": [
       "Correct"
      ]
     },
     "metadata": {},
     "output_type": "display_data"
    }
   ],
   "source": [
    "# Create the list of features below\n",
    "feature_names = ['LotArea'\n",
    ",'YearBuilt'\n",
    ",'1stFlrSF'\n",
    ",'2ndFlrSF'\n",
    ",'FullBath'\n",
    ",'BedroomAbvGr'\n",
    ",'TotRmsAbvGrd']\n",
    "\n",
    "# Select data corresponding to features in feature_names\n",
    "X = home_data[feature_names]\n",
    "\n",
    "# Check your answer\n",
    "step_2.check()"
   ]
  },
  {
   "cell_type": "code",
   "execution_count": 6,
   "id": "29c351e9",
   "metadata": {
    "execution": {
     "iopub.execute_input": "2023-03-16T17:35:48.531163Z",
     "iopub.status.busy": "2023-03-16T17:35:48.530697Z",
     "iopub.status.idle": "2023-03-16T17:35:48.535855Z",
     "shell.execute_reply": "2023-03-16T17:35:48.534479Z"
    },
    "papermill": {
     "duration": 0.015286,
     "end_time": "2023-03-16T17:35:48.538574",
     "exception": false,
     "start_time": "2023-03-16T17:35:48.523288",
     "status": "completed"
    },
    "tags": []
   },
   "outputs": [],
   "source": [
    "# step_2.hint()\n",
    "# step_2.solution()"
   ]
  },
  {
   "cell_type": "markdown",
   "id": "cca87f35",
   "metadata": {
    "papermill": {
     "duration": 0.005497,
     "end_time": "2023-03-16T17:35:48.550222",
     "exception": false,
     "start_time": "2023-03-16T17:35:48.544725",
     "status": "completed"
    },
    "tags": []
   },
   "source": [
    "## Review Data\n",
    "Before building a model, take a quick look at **X** to verify it looks sensible"
   ]
  },
  {
   "cell_type": "code",
   "execution_count": 7,
   "id": "154da634",
   "metadata": {
    "collapsed": true,
    "execution": {
     "iopub.execute_input": "2023-03-16T17:35:48.565215Z",
     "iopub.status.busy": "2023-03-16T17:35:48.564415Z",
     "iopub.status.idle": "2023-03-16T17:35:48.570817Z",
     "shell.execute_reply": "2023-03-16T17:35:48.569757Z"
    },
    "jupyter": {
     "outputs_hidden": true
    },
    "papermill": {
     "duration": 0.017569,
     "end_time": "2023-03-16T17:35:48.573508",
     "exception": false,
     "start_time": "2023-03-16T17:35:48.555939",
     "status": "completed"
    },
    "tags": []
   },
   "outputs": [],
   "source": [
    "# Review data\n",
    "# print description or statistics from X\n",
    "#print(_)\n",
    "\n",
    "# print the top few lines\n",
    "#print(_)"
   ]
  },
  {
   "cell_type": "markdown",
   "id": "df76aae1",
   "metadata": {
    "papermill": {
     "duration": 0.005756,
     "end_time": "2023-03-16T17:35:48.587338",
     "exception": false,
     "start_time": "2023-03-16T17:35:48.581582",
     "status": "completed"
    },
    "tags": []
   },
   "source": [
    "## Step 3: Specify and Fit Model\n",
    "Create a `DecisionTreeRegressor` and save it iowa_model. Ensure you've done the relevant import from sklearn to run this command.\n",
    "\n",
    "Then fit the model you just created using the data in `X` and `y` that you saved above."
   ]
  },
  {
   "cell_type": "code",
   "execution_count": 8,
   "id": "4b6ee999",
   "metadata": {
    "execution": {
     "iopub.execute_input": "2023-03-16T17:35:48.605054Z",
     "iopub.status.busy": "2023-03-16T17:35:48.604022Z",
     "iopub.status.idle": "2023-03-16T17:35:48.630930Z",
     "shell.execute_reply": "2023-03-16T17:35:48.629633Z"
    },
    "papermill": {
     "duration": 0.038656,
     "end_time": "2023-03-16T17:35:48.633484",
     "exception": false,
     "start_time": "2023-03-16T17:35:48.594828",
     "status": "completed"
    },
    "tags": []
   },
   "outputs": [
    {
     "data": {
      "application/javascript": [
       "parent.postMessage({\"jupyterEvent\": \"custom.exercise_interaction\", \"data\": {\"outcomeType\": 1, \"valueTowardsCompletion\": 0.25, \"interactionType\": 1, \"questionType\": 2, \"questionId\": \"3_CreateModel\", \"learnToolsVersion\": \"0.3.4\", \"failureMessage\": \"\", \"exceptionClass\": \"\", \"trace\": \"\"}}, \"*\")"
      ],
      "text/plain": [
       "<IPython.core.display.Javascript object>"
      ]
     },
     "metadata": {},
     "output_type": "display_data"
    },
    {
     "data": {
      "text/markdown": [
       "<span style=\"color:#33cc33\">Correct</span>"
      ],
      "text/plain": [
       "Correct"
      ]
     },
     "metadata": {},
     "output_type": "display_data"
    }
   ],
   "source": [
    "# from _ import _\n",
    "#specify the model. \n",
    "#For model reproducibility, set a numeric value for random_state when specifying the model\n",
    "from sklearn.tree import DecisionTreeRegressor\n",
    "iowa_model = DecisionTreeRegressor(random_state=1)\n",
    "\n",
    "# Fit the model\n",
    "iowa_model.fit(X,y)\n",
    "# Check your answer\n",
    "step_3.check()"
   ]
  },
  {
   "cell_type": "code",
   "execution_count": 9,
   "id": "a3bcb0ff",
   "metadata": {
    "collapsed": true,
    "execution": {
     "iopub.execute_input": "2023-03-16T17:35:48.648800Z",
     "iopub.status.busy": "2023-03-16T17:35:48.647908Z",
     "iopub.status.idle": "2023-03-16T17:35:48.652706Z",
     "shell.execute_reply": "2023-03-16T17:35:48.651633Z"
    },
    "jupyter": {
     "outputs_hidden": true
    },
    "papermill": {
     "duration": 0.015406,
     "end_time": "2023-03-16T17:35:48.654981",
     "exception": false,
     "start_time": "2023-03-16T17:35:48.639575",
     "status": "completed"
    },
    "tags": []
   },
   "outputs": [],
   "source": [
    "# step_3.hint()\n",
    "# step_3.solution()"
   ]
  },
  {
   "cell_type": "markdown",
   "id": "7270a6a5",
   "metadata": {
    "papermill": {
     "duration": 0.005957,
     "end_time": "2023-03-16T17:35:48.667274",
     "exception": false,
     "start_time": "2023-03-16T17:35:48.661317",
     "status": "completed"
    },
    "tags": []
   },
   "source": [
    "## Step 4: Make Predictions\n",
    "Make predictions with the model's `predict` command using `X` as the data. Save the results to a variable called `predictions`."
   ]
  },
  {
   "cell_type": "code",
   "execution_count": 10,
   "id": "be3fd046",
   "metadata": {
    "collapsed": true,
    "execution": {
     "iopub.execute_input": "2023-03-16T17:35:48.682421Z",
     "iopub.status.busy": "2023-03-16T17:35:48.681515Z",
     "iopub.status.idle": "2023-03-16T17:35:48.692360Z",
     "shell.execute_reply": "2023-03-16T17:35:48.691254Z"
    },
    "jupyter": {
     "outputs_hidden": true
    },
    "papermill": {
     "duration": 0.021667,
     "end_time": "2023-03-16T17:35:48.695027",
     "exception": false,
     "start_time": "2023-03-16T17:35:48.673360",
     "status": "completed"
    },
    "tags": []
   },
   "outputs": [
    {
     "name": "stdout",
     "output_type": "stream",
     "text": [
      "<learntools.core.constants.PlaceholderValue object at 0x7f3aa8ac9890>\n"
     ]
    },
    {
     "data": {
      "application/javascript": [
       "parent.postMessage({\"jupyterEvent\": \"custom.exercise_interaction\", \"data\": {\"outcomeType\": 4, \"interactionType\": 1, \"questionType\": 2, \"questionId\": \"4_MakePredictions\", \"learnToolsVersion\": \"0.3.4\", \"valueTowardsCompletion\": 0.0, \"failureMessage\": \"\", \"exceptionClass\": \"\", \"trace\": \"\"}}, \"*\")"
      ],
      "text/plain": [
       "<IPython.core.display.Javascript object>"
      ]
     },
     "metadata": {},
     "output_type": "display_data"
    },
    {
     "data": {
      "text/markdown": [
       "<span style=\"color:#ccaa33\">Check:</span> When you've updated the starter code, `check()` will tell you whether your code is correct. You need to update the code that creates variables `predictions`, `iowa_model`, `X`"
      ],
      "text/plain": [
       "Check: When you've updated the starter code, `check()` will tell you whether your code is correct. You need to update the code that creates variables `predictions`, `iowa_model`, `X`"
      ]
     },
     "metadata": {},
     "output_type": "display_data"
    }
   ],
   "source": [
    "predictions = ____\n",
    "print(predictions)\n",
    "\n",
    "# Check your answer\n",
    "step_4.check()"
   ]
  },
  {
   "cell_type": "code",
   "execution_count": 11,
   "id": "48da3885",
   "metadata": {
    "collapsed": true,
    "execution": {
     "iopub.execute_input": "2023-03-16T17:35:48.710733Z",
     "iopub.status.busy": "2023-03-16T17:35:48.709744Z",
     "iopub.status.idle": "2023-03-16T17:35:48.715373Z",
     "shell.execute_reply": "2023-03-16T17:35:48.714134Z"
    },
    "jupyter": {
     "outputs_hidden": true
    },
    "papermill": {
     "duration": 0.016208,
     "end_time": "2023-03-16T17:35:48.717864",
     "exception": false,
     "start_time": "2023-03-16T17:35:48.701656",
     "status": "completed"
    },
    "tags": []
   },
   "outputs": [],
   "source": [
    "# step_4.hint()\n",
    "# step_4.solution()"
   ]
  },
  {
   "cell_type": "markdown",
   "id": "b4437e67",
   "metadata": {
    "papermill": {
     "duration": 0.006263,
     "end_time": "2023-03-16T17:35:48.730740",
     "exception": false,
     "start_time": "2023-03-16T17:35:48.724477",
     "status": "completed"
    },
    "tags": []
   },
   "source": [
    "## Think About Your Results\n",
    "\n",
    "Use the `head` method to compare the top few predictions to the actual home values (in `y`) for those same homes. Anything surprising?\n"
   ]
  },
  {
   "cell_type": "code",
   "execution_count": 12,
   "id": "5be93013",
   "metadata": {
    "execution": {
     "iopub.execute_input": "2023-03-16T17:35:48.746798Z",
     "iopub.status.busy": "2023-03-16T17:35:48.745528Z",
     "iopub.status.idle": "2023-03-16T17:35:48.751123Z",
     "shell.execute_reply": "2023-03-16T17:35:48.750192Z"
    },
    "papermill": {
     "duration": 0.016068,
     "end_time": "2023-03-16T17:35:48.753339",
     "exception": false,
     "start_time": "2023-03-16T17:35:48.737271",
     "status": "completed"
    },
    "tags": []
   },
   "outputs": [],
   "source": [
    "# You can write code in this cell\n"
   ]
  },
  {
   "cell_type": "markdown",
   "id": "d6d530e0",
   "metadata": {
    "papermill": {
     "duration": 0.006154,
     "end_time": "2023-03-16T17:35:48.766126",
     "exception": false,
     "start_time": "2023-03-16T17:35:48.759972",
     "status": "completed"
    },
    "tags": []
   },
   "source": [
    "It's natural to ask how accurate the model's predictions will be and how you can improve that. That will be you're next step.\n",
    "\n",
    "# Keep Going\n",
    "\n",
    "You are ready for **[Model Validation](https://www.kaggle.com/dansbecker/model-validation).**\n"
   ]
  },
  {
   "cell_type": "markdown",
   "id": "2ccf3ba5",
   "metadata": {
    "papermill": {
     "duration": 0.006294,
     "end_time": "2023-03-16T17:35:48.779011",
     "exception": false,
     "start_time": "2023-03-16T17:35:48.772717",
     "status": "completed"
    },
    "tags": []
   },
   "source": [
    "---\n",
    "\n",
    "\n",
    "\n",
    "\n",
    "*Have questions or comments? Visit the [course discussion forum](https://www.kaggle.com/learn/intro-to-machine-learning/discussion) to chat with other learners.*"
   ]
  }
 ],
 "metadata": {
  "kernelspec": {
   "display_name": "Python 3",
   "language": "python",
   "name": "python3"
  },
  "language_info": {
   "codemirror_mode": {
    "name": "ipython",
    "version": 3
   },
   "file_extension": ".py",
   "mimetype": "text/x-python",
   "name": "python",
   "nbconvert_exporter": "python",
   "pygments_lexer": "ipython3",
   "version": "3.7.12"
  },
  "papermill": {
   "default_parameters": {},
   "duration": 13.655543,
   "end_time": "2023-03-16T17:35:49.710253",
   "environment_variables": {},
   "exception": null,
   "input_path": "__notebook__.ipynb",
   "output_path": "__notebook__.ipynb",
   "parameters": {},
   "start_time": "2023-03-16T17:35:36.054710",
   "version": "2.4.0"
  }
 },
 "nbformat": 4,
 "nbformat_minor": 5
}
