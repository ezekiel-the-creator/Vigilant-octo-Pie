{
 "cells": [
  {
   "cell_type": "markdown",
   "id": "48cd80a0",
   "metadata": {
    "papermill": {
     "duration": 0.006864,
     "end_time": "2023-03-18T18:27:42.473937",
     "exception": false,
     "start_time": "2023-03-18T18:27:42.467073",
     "status": "completed"
    },
    "tags": []
   },
   "source": [
    "**This notebook is an exercise in the [Intermediate Machine Learning](https://www.kaggle.com/learn/intermediate-machine-learning) course.  You can reference the tutorial at [this link](https://www.kaggle.com/alexisbcook/pipelines).**\n",
    "\n",
    "---\n"
   ]
  },
  {
   "cell_type": "markdown",
   "id": "fd980493",
   "metadata": {
    "papermill": {
     "duration": 0.004919,
     "end_time": "2023-03-18T18:27:42.484436",
     "exception": false,
     "start_time": "2023-03-18T18:27:42.479517",
     "status": "completed"
    },
    "tags": []
   },
   "source": [
    "In this exercise, you will use **pipelines** to improve the efficiency of your machine learning code.\n",
    "\n",
    "# Setup\n",
    "\n",
    "The questions below will give you feedback on your work. Run the following cell to set up the feedback system."
   ]
  },
  {
   "cell_type": "code",
   "execution_count": 1,
   "id": "9fba9959",
   "metadata": {
    "execution": {
     "iopub.execute_input": "2023-03-18T18:27:42.497534Z",
     "iopub.status.busy": "2023-03-18T18:27:42.496429Z",
     "iopub.status.idle": "2023-03-18T18:27:43.548550Z",
     "shell.execute_reply": "2023-03-18T18:27:43.547156Z"
    },
    "papermill": {
     "duration": 1.061834,
     "end_time": "2023-03-18T18:27:43.551508",
     "exception": false,
     "start_time": "2023-03-18T18:27:42.489674",
     "status": "completed"
    },
    "tags": []
   },
   "outputs": [
    {
     "name": "stdout",
     "output_type": "stream",
     "text": [
      "Setup Complete\n"
     ]
    }
   ],
   "source": [
    "# Set up code checking\n",
    "import os\n",
    "if not os.path.exists(\"../input/train.csv\"):\n",
    "    os.symlink(\"../input/home-data-for-ml-course/train.csv\", \"../input/train.csv\")  \n",
    "    os.symlink(\"../input/home-data-for-ml-course/test.csv\", \"../input/test.csv\") \n",
    "from learntools.core import binder\n",
    "binder.bind(globals())\n",
    "from learntools.ml_intermediate.ex4 import *\n",
    "print(\"Setup Complete\")"
   ]
  },
  {
   "cell_type": "markdown",
   "id": "a8ad244b",
   "metadata": {
    "papermill": {
     "duration": 0.005016,
     "end_time": "2023-03-18T18:27:43.561696",
     "exception": false,
     "start_time": "2023-03-18T18:27:43.556680",
     "status": "completed"
    },
    "tags": []
   },
   "source": [
    "You will work with data from the [Housing Prices Competition for Kaggle Learn Users](https://www.kaggle.com/c/home-data-for-ml-course). \n",
    "\n",
    "![Ames Housing dataset image](https://i.imgur.com/lTJVG4e.png)\n",
    "\n",
    "Run the next code cell without changes to load the training and validation sets in `X_train`, `X_valid`, `y_train`, and `y_valid`.  The test set is loaded in `X_test`."
   ]
  },
  {
   "cell_type": "code",
   "execution_count": 2,
   "id": "82805ac3",
   "metadata": {
    "execution": {
     "iopub.execute_input": "2023-03-18T18:27:43.575121Z",
     "iopub.status.busy": "2023-03-18T18:27:43.574000Z",
     "iopub.status.idle": "2023-03-18T18:27:43.800854Z",
     "shell.execute_reply": "2023-03-18T18:27:43.799470Z"
    },
    "papermill": {
     "duration": 0.236372,
     "end_time": "2023-03-18T18:27:43.803853",
     "exception": false,
     "start_time": "2023-03-18T18:27:43.567481",
     "status": "completed"
    },
    "tags": []
   },
   "outputs": [],
   "source": [
    "import pandas as pd\n",
    "from sklearn.model_selection import train_test_split\n",
    "\n",
    "# Read the data\n",
    "X_full = pd.read_csv('../input/train.csv', index_col='Id')\n",
    "X_test_full = pd.read_csv('../input/test.csv', index_col='Id')\n",
    "\n",
    "# Remove rows with missing target, separate target from predictors\n",
    "X_full.dropna(axis=0, subset=['SalePrice'], inplace=True)\n",
    "y = X_full.SalePrice\n",
    "X_full.drop(['SalePrice'], axis=1, inplace=True)\n",
    "\n",
    "# Break off validation set from training data\n",
    "X_train_full, X_valid_full, y_train, y_valid = train_test_split(X_full, y, \n",
    "                                                                train_size=0.8, test_size=0.2,\n",
    "                                                                random_state=0)\n",
    "\n",
    "# \"Cardinality\" means the number of unique values in a column\n",
    "# Select categorical columns with relatively low cardinality (convenient but arbitrary)\n",
    "categorical_cols = [cname for cname in X_train_full.columns if\n",
    "                    X_train_full[cname].nunique() < 10 and \n",
    "                    X_train_full[cname].dtype == \"object\"]\n",
    "\n",
    "# Select numerical columns\n",
    "numerical_cols = [cname for cname in X_train_full.columns if \n",
    "                X_train_full[cname].dtype in ['int64', 'float64']]\n",
    "\n",
    "# Keep selected columns only\n",
    "my_cols = categorical_cols + numerical_cols\n",
    "X_train = X_train_full[my_cols].copy()\n",
    "X_valid = X_valid_full[my_cols].copy()\n",
    "X_test = X_test_full[my_cols].copy()"
   ]
  },
  {
   "cell_type": "code",
   "execution_count": 3,
   "id": "a3a7cebb",
   "metadata": {
    "execution": {
     "iopub.execute_input": "2023-03-18T18:27:43.816958Z",
     "iopub.status.busy": "2023-03-18T18:27:43.816514Z",
     "iopub.status.idle": "2023-03-18T18:27:43.827318Z",
     "shell.execute_reply": "2023-03-18T18:27:43.826056Z"
    },
    "papermill": {
     "duration": 0.020245,
     "end_time": "2023-03-18T18:27:43.829911",
     "exception": false,
     "start_time": "2023-03-18T18:27:43.809666",
     "status": "completed"
    },
    "tags": []
   },
   "outputs": [
    {
     "data": {
      "text/plain": [
       "BsmtHalfBath      int64\n",
       "MSZoning         object\n",
       "GarageArea        int64\n",
       "RoofStyle        object\n",
       "LotFrontage     float64\n",
       "dtype: object"
      ]
     },
     "execution_count": 3,
     "metadata": {},
     "output_type": "execute_result"
    }
   ],
   "source": [
    "X_train.dtypes.sample(5)"
   ]
  },
  {
   "cell_type": "markdown",
   "id": "df66084e",
   "metadata": {
    "papermill": {
     "duration": 0.005068,
     "end_time": "2023-03-18T18:27:43.840703",
     "exception": false,
     "start_time": "2023-03-18T18:27:43.835635",
     "status": "completed"
    },
    "tags": []
   },
   "source": [
    "The next code cell uses code from the tutorial to preprocess the data and train a model.  Run this code without changes."
   ]
  },
  {
   "cell_type": "code",
   "execution_count": 4,
   "id": "f3282fc2",
   "metadata": {
    "execution": {
     "iopub.execute_input": "2023-03-18T18:27:43.853902Z",
     "iopub.status.busy": "2023-03-18T18:27:43.852753Z",
     "iopub.status.idle": "2023-03-18T18:27:46.691830Z",
     "shell.execute_reply": "2023-03-18T18:27:46.690269Z"
    },
    "papermill": {
     "duration": 2.84885,
     "end_time": "2023-03-18T18:27:46.694777",
     "exception": false,
     "start_time": "2023-03-18T18:27:43.845927",
     "status": "completed"
    },
    "tags": []
   },
   "outputs": [
    {
     "name": "stdout",
     "output_type": "stream",
     "text": [
      "MAE: 17861.780102739725\n"
     ]
    }
   ],
   "source": [
    "from sklearn.compose import ColumnTransformer\n",
    "from sklearn.pipeline import Pipeline\n",
    "from sklearn.impute import SimpleImputer\n",
    "from sklearn.preprocessing import OneHotEncoder\n",
    "from sklearn.ensemble import RandomForestRegressor\n",
    "from sklearn.metrics import mean_absolute_error\n",
    "\n",
    "# Preprocessing for numerical data\n",
    "numerical_transformer = SimpleImputer(strategy='constant')\n",
    "\n",
    "# Preprocessing for categorical data\n",
    "categorical_transformer = Pipeline(steps=[\n",
    "    ('imputer', SimpleImputer(strategy='most_frequent')),\n",
    "    ('onehot', OneHotEncoder(handle_unknown='ignore'))\n",
    "])\n",
    "\n",
    "# Bundle preprocessing for numerical and categorical data\n",
    "preprocessor = ColumnTransformer(\n",
    "    transformers=[\n",
    "        ('num', numerical_transformer, numerical_cols),\n",
    "        ('cat', categorical_transformer, categorical_cols)\n",
    "    ])\n",
    "\n",
    "# Define model\n",
    "model = RandomForestRegressor(n_estimators=100, random_state=0)\n",
    "\n",
    "# Bundle preprocessing and modeling code in a pipeline\n",
    "clf = Pipeline(steps=[('preprocessor', preprocessor),\n",
    "                      ('model', model)\n",
    "                     ])\n",
    "\n",
    "# Preprocessing of training data, fit model \n",
    "clf.fit(X_train, y_train)\n",
    "\n",
    "# Preprocessing of validation data, get predictions\n",
    "preds = clf.predict(X_valid)\n",
    "\n",
    "print('MAE:', mean_absolute_error(y_valid, preds))"
   ]
  },
  {
   "cell_type": "markdown",
   "id": "da06adc8",
   "metadata": {
    "papermill": {
     "duration": 0.005675,
     "end_time": "2023-03-18T18:27:46.706529",
     "exception": false,
     "start_time": "2023-03-18T18:27:46.700854",
     "status": "completed"
    },
    "tags": []
   },
   "source": [
    "The code yields a value around 17862 for the mean absolute error (MAE).  In the next step, you will amend the code to do better.\n",
    "\n",
    "# Step 1: Improve the performance\n",
    "\n",
    "### Part A\n",
    "\n",
    "Now, it's your turn!  In the code cell below, define your own preprocessing steps and random forest model.  Fill in values for the following variables:\n",
    "- `numerical_transformer`\n",
    "- `categorical_transformer`\n",
    "- `model`\n",
    "\n",
    "To pass this part of the exercise, you need only define valid preprocessing steps and a random forest model."
   ]
  },
  {
   "cell_type": "code",
   "execution_count": 5,
   "id": "f949946b",
   "metadata": {
    "execution": {
     "iopub.execute_input": "2023-03-18T18:27:46.720072Z",
     "iopub.status.busy": "2023-03-18T18:27:46.719256Z",
     "iopub.status.idle": "2023-03-18T18:27:46.732134Z",
     "shell.execute_reply": "2023-03-18T18:27:46.730902Z"
    },
    "papermill": {
     "duration": 0.022614,
     "end_time": "2023-03-18T18:27:46.734712",
     "exception": false,
     "start_time": "2023-03-18T18:27:46.712098",
     "status": "completed"
    },
    "tags": []
   },
   "outputs": [
    {
     "data": {
      "application/javascript": [
       "parent.postMessage({\"jupyterEvent\": \"custom.exercise_interaction\", \"data\": {\"outcomeType\": 1, \"valueTowardsCompletion\": 1.0, \"interactionType\": 1, \"questionType\": 2, \"questionId\": \"1.1_YourTurnModel\", \"learnToolsVersion\": \"0.3.4\", \"failureMessage\": \"\", \"exceptionClass\": \"\", \"trace\": \"\"}}, \"*\")"
      ],
      "text/plain": [
       "<IPython.core.display.Javascript object>"
      ]
     },
     "metadata": {},
     "output_type": "display_data"
    },
    {
     "data": {
      "text/markdown": [
       "<span style=\"color:#33cc33\">Correct</span>"
      ],
      "text/plain": [
       "Correct"
      ]
     },
     "metadata": {},
     "output_type": "display_data"
    }
   ],
   "source": [
    "# Preprocessing for numerical data\n",
    "numerical_transformer = SimpleImputer(strategy='constant') # Your code here\n",
    "\n",
    "# Preprocessing for categorical data\n",
    "categorical_transformer = Pipeline(steps = [\n",
    "    ('imputer', SimpleImputer(strategy = 'constant')),\n",
    "    ('onehot', OneHotEncoder(handle_unknown = 'ignore'))\n",
    "]) # Your code here\n",
    "\n",
    "# Bundle preprocessing for numerical and categorical data\n",
    "preprocessor = ColumnTransformer(\n",
    "    transformers=[\n",
    "        ('num', numerical_transformer, numerical_cols),\n",
    "        ('cat', categorical_transformer, categorical_cols)\n",
    "    ])\n",
    "\n",
    "\n",
    "# Define model\n",
    "model = RandomForestRegressor(random_state = 1) # Your code here\n",
    "\n",
    "# Check your answer\n",
    "step_1.a.check()"
   ]
  },
  {
   "cell_type": "code",
   "execution_count": 6,
   "id": "517a8444",
   "metadata": {
    "execution": {
     "iopub.execute_input": "2023-03-18T18:27:46.748950Z",
     "iopub.status.busy": "2023-03-18T18:27:46.747857Z",
     "iopub.status.idle": "2023-03-18T18:27:46.753817Z",
     "shell.execute_reply": "2023-03-18T18:27:46.752291Z"
    },
    "papermill": {
     "duration": 0.015977,
     "end_time": "2023-03-18T18:27:46.756496",
     "exception": false,
     "start_time": "2023-03-18T18:27:46.740519",
     "status": "completed"
    },
    "tags": []
   },
   "outputs": [],
   "source": [
    "# Lines below will give you a hint or solution code\n",
    "#step_1.a.hint()\n",
    "#step_1.a.solution()"
   ]
  },
  {
   "cell_type": "markdown",
   "id": "8d0b6d98",
   "metadata": {
    "papermill": {
     "duration": 0.006075,
     "end_time": "2023-03-18T18:27:46.768494",
     "exception": false,
     "start_time": "2023-03-18T18:27:46.762419",
     "status": "completed"
    },
    "tags": []
   },
   "source": [
    "### Part B\n",
    "\n",
    "Run the code cell below without changes.\n",
    "\n",
    "To pass this step, you need to have defined a pipeline in **Part A** that achieves lower MAE than the code above.  You're encouraged to take your time here and try out many different approaches, to see how low you can get the MAE!  (_If your code does not pass, please amend the preprocessing steps and model in Part A._)"
   ]
  },
  {
   "cell_type": "code",
   "execution_count": 7,
   "id": "fd7d6918",
   "metadata": {
    "execution": {
     "iopub.execute_input": "2023-03-18T18:27:46.782664Z",
     "iopub.status.busy": "2023-03-18T18:27:46.782242Z",
     "iopub.status.idle": "2023-03-18T18:27:49.344664Z",
     "shell.execute_reply": "2023-03-18T18:27:49.343359Z"
    },
    "papermill": {
     "duration": 2.572555,
     "end_time": "2023-03-18T18:27:49.347320",
     "exception": false,
     "start_time": "2023-03-18T18:27:46.774765",
     "status": "completed"
    },
    "tags": []
   },
   "outputs": [
    {
     "name": "stdout",
     "output_type": "stream",
     "text": [
      "MAE: 17272.258835616438\n"
     ]
    },
    {
     "data": {
      "application/javascript": [
       "parent.postMessage({\"jupyterEvent\": \"custom.exercise_interaction\", \"data\": {\"outcomeType\": 1, \"valueTowardsCompletion\": 1.0, \"interactionType\": 1, \"questionType\": 2, \"questionId\": \"1.2_YourTurnPredict\", \"learnToolsVersion\": \"0.3.4\", \"failureMessage\": \"\", \"exceptionClass\": \"\", \"trace\": \"\"}}, \"*\")"
      ],
      "text/plain": [
       "<IPython.core.display.Javascript object>"
      ]
     },
     "metadata": {},
     "output_type": "display_data"
    },
    {
     "data": {
      "text/markdown": [
       "<span style=\"color:#33cc33\">Correct</span>"
      ],
      "text/plain": [
       "Correct"
      ]
     },
     "metadata": {},
     "output_type": "display_data"
    }
   ],
   "source": [
    "# Bundle preprocessing and modeling code in a pipeline\n",
    "my_pipeline = Pipeline(steps=[('preprocessor', preprocessor),\n",
    "                              ('model', model)\n",
    "                             ])\n",
    "\n",
    "# Preprocessing of training data, fit model \n",
    "my_pipeline.fit(X_train, y_train)\n",
    "\n",
    "# Preprocessing of validation data, get predictions\n",
    "preds = my_pipeline.predict(X_valid)\n",
    "\n",
    "# Evaluate the model\n",
    "score = mean_absolute_error(y_valid, preds)\n",
    "print('MAE:', score)\n",
    "\n",
    "# Check your answer\n",
    "step_1.b.check()"
   ]
  },
  {
   "cell_type": "code",
   "execution_count": 8,
   "id": "8eb8e5b5",
   "metadata": {
    "execution": {
     "iopub.execute_input": "2023-03-18T18:27:49.363105Z",
     "iopub.status.busy": "2023-03-18T18:27:49.362067Z",
     "iopub.status.idle": "2023-03-18T18:27:49.368024Z",
     "shell.execute_reply": "2023-03-18T18:27:49.367079Z"
    },
    "papermill": {
     "duration": 0.015686,
     "end_time": "2023-03-18T18:27:49.370283",
     "exception": false,
     "start_time": "2023-03-18T18:27:49.354597",
     "status": "completed"
    },
    "tags": []
   },
   "outputs": [],
   "source": [
    "# Line below will give you a hint\n",
    "#step_1.b.hint()"
   ]
  },
  {
   "cell_type": "markdown",
   "id": "f4589ad8",
   "metadata": {
    "papermill": {
     "duration": 0.005683,
     "end_time": "2023-03-18T18:27:49.382035",
     "exception": false,
     "start_time": "2023-03-18T18:27:49.376352",
     "status": "completed"
    },
    "tags": []
   },
   "source": [
    "# Step 2: Generate test predictions\n",
    "\n",
    "Now, you'll use your trained model to generate predictions with the test data."
   ]
  },
  {
   "cell_type": "code",
   "execution_count": 9,
   "id": "abc85b51",
   "metadata": {
    "execution": {
     "iopub.execute_input": "2023-03-18T18:27:49.397056Z",
     "iopub.status.busy": "2023-03-18T18:27:49.396235Z",
     "iopub.status.idle": "2023-03-18T18:27:49.484347Z",
     "shell.execute_reply": "2023-03-18T18:27:49.483392Z"
    },
    "papermill": {
     "duration": 0.098297,
     "end_time": "2023-03-18T18:27:49.486836",
     "exception": false,
     "start_time": "2023-03-18T18:27:49.388539",
     "status": "completed"
    },
    "tags": []
   },
   "outputs": [
    {
     "data": {
      "application/javascript": [
       "parent.postMessage({\"jupyterEvent\": \"custom.exercise_interaction\", \"data\": {\"outcomeType\": 1, \"valueTowardsCompletion\": 1.0, \"interactionType\": 1, \"questionType\": 2, \"questionId\": \"2_TestPreds\", \"learnToolsVersion\": \"0.3.4\", \"failureMessage\": \"\", \"exceptionClass\": \"\", \"trace\": \"\"}}, \"*\")"
      ],
      "text/plain": [
       "<IPython.core.display.Javascript object>"
      ]
     },
     "metadata": {},
     "output_type": "display_data"
    },
    {
     "data": {
      "text/markdown": [
       "<span style=\"color:#33cc33\">Correct</span>"
      ],
      "text/plain": [
       "Correct"
      ]
     },
     "metadata": {},
     "output_type": "display_data"
    }
   ],
   "source": [
    "# Preprocessing of test data, fit model\n",
    "preds_test = my_pipeline.predict(X_test) # Your code here\n",
    "\n",
    "# Check your answer\n",
    "step_2.check()"
   ]
  },
  {
   "cell_type": "code",
   "execution_count": 10,
   "id": "18f22b88",
   "metadata": {
    "execution": {
     "iopub.execute_input": "2023-03-18T18:27:49.501023Z",
     "iopub.status.busy": "2023-03-18T18:27:49.500634Z",
     "iopub.status.idle": "2023-03-18T18:27:49.506027Z",
     "shell.execute_reply": "2023-03-18T18:27:49.504662Z"
    },
    "papermill": {
     "duration": 0.015468,
     "end_time": "2023-03-18T18:27:49.508556",
     "exception": false,
     "start_time": "2023-03-18T18:27:49.493088",
     "status": "completed"
    },
    "tags": []
   },
   "outputs": [],
   "source": [
    "# Lines below will give you a hint or solution code\n",
    "#step_2.hint()\n",
    "#step_2.solution()"
   ]
  },
  {
   "cell_type": "markdown",
   "id": "af10babf",
   "metadata": {
    "papermill": {
     "duration": 0.006558,
     "end_time": "2023-03-18T18:27:49.521333",
     "exception": false,
     "start_time": "2023-03-18T18:27:49.514775",
     "status": "completed"
    },
    "tags": []
   },
   "source": [
    "Run the next code cell without changes to save your results to a CSV file that can be submitted directly to the competition."
   ]
  },
  {
   "cell_type": "code",
   "execution_count": 11,
   "id": "837c8f72",
   "metadata": {
    "execution": {
     "iopub.execute_input": "2023-03-18T18:27:49.535423Z",
     "iopub.status.busy": "2023-03-18T18:27:49.534966Z",
     "iopub.status.idle": "2023-03-18T18:27:49.549209Z",
     "shell.execute_reply": "2023-03-18T18:27:49.547929Z"
    },
    "papermill": {
     "duration": 0.024731,
     "end_time": "2023-03-18T18:27:49.552166",
     "exception": false,
     "start_time": "2023-03-18T18:27:49.527435",
     "status": "completed"
    },
    "tags": []
   },
   "outputs": [],
   "source": [
    "# Save test predictions to file\n",
    "output = pd.DataFrame({'Id': X_test.index,\n",
    "                       'SalePrice': preds_test})\n",
    "output.to_csv('submission.csv', index=False)"
   ]
  },
  {
   "cell_type": "markdown",
   "id": "eb1a296f",
   "metadata": {
    "papermill": {
     "duration": 0.006089,
     "end_time": "2023-03-18T18:27:49.564482",
     "exception": false,
     "start_time": "2023-03-18T18:27:49.558393",
     "status": "completed"
    },
    "tags": []
   },
   "source": [
    "# Submit your results\n",
    "\n",
    "Once you have successfully completed Step 2, you're ready to submit your results to the leaderboard!  If you choose to do so, make sure that you have already joined the competition by clicking on the **Join Competition** button at [this link](https://www.kaggle.com/c/home-data-for-ml-course).  \n",
    "1. Begin by clicking on the **Save Version** button in the top right corner of the window.  This will generate a pop-up window.  \n",
    "2. Ensure that the **Save and Run All** option is selected, and then click on the **Save** button.\n",
    "3. This generates a window in the bottom left corner of the notebook.  After it has finished running, click on the number to the right of the **Save Version** button.  This pulls up a list of versions on the right of the screen.  Click on the ellipsis **(...)** to the right of the most recent version, and select **Open in Viewer**.  This brings you into view mode of the same page. You will need to scroll down to get back to these instructions.\n",
    "4. Click on the **Output** tab on the right of the screen.  Then, click on the file you would like to submit, and click on the **Submit** button to submit your results to the leaderboard.\n",
    "\n",
    "You have now successfully submitted to the competition!\n",
    "\n",
    "If you want to keep working to improve your performance, select the **Edit** button in the top right of the screen. Then you can change your code and repeat the process. There's a lot of room to improve, and you will climb up the leaderboard as you work.\n",
    "\n",
    "\n",
    "# Keep going\n",
    "\n",
    "Move on to learn about [**cross-validation**](https://www.kaggle.com/alexisbcook/cross-validation), a technique you can use to obtain more accurate estimates of model performance!"
   ]
  },
  {
   "cell_type": "markdown",
   "id": "0d196768",
   "metadata": {
    "papermill": {
     "duration": 0.005851,
     "end_time": "2023-03-18T18:27:49.576493",
     "exception": false,
     "start_time": "2023-03-18T18:27:49.570642",
     "status": "completed"
    },
    "tags": []
   },
   "source": [
    "---\n",
    "\n",
    "\n",
    "\n",
    "\n",
    "*Have questions or comments? Visit the [course discussion forum](https://www.kaggle.com/learn/intermediate-machine-learning/discussion) to chat with other learners.*"
   ]
  }
 ],
 "metadata": {
  "kernelspec": {
   "display_name": "Python 3",
   "language": "python",
   "name": "python3"
  },
  "language_info": {
   "codemirror_mode": {
    "name": "ipython",
    "version": 3
   },
   "file_extension": ".py",
   "mimetype": "text/x-python",
   "name": "python",
   "nbconvert_exporter": "python",
   "pygments_lexer": "ipython3",
   "version": "3.7.12"
  },
  "papermill": {
   "default_parameters": {},
   "duration": 18.307033,
   "end_time": "2023-03-18T18:27:50.405884",
   "environment_variables": {},
   "exception": null,
   "input_path": "__notebook__.ipynb",
   "output_path": "__notebook__.ipynb",
   "parameters": {},
   "start_time": "2023-03-18T18:27:32.098851",
   "version": "2.4.0"
  }
 },
 "nbformat": 4,
 "nbformat_minor": 5
}
