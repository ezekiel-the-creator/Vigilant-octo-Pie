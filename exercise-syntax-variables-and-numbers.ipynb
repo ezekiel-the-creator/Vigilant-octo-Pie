{
 "cells": [
  {
   "cell_type": "markdown",
   "id": "8d714dc4",
   "metadata": {
    "papermill": {
     "duration": 0.007532,
     "end_time": "2023-03-24T14:54:26.739374",
     "exception": false,
     "start_time": "2023-03-24T14:54:26.731842",
     "status": "completed"
    },
    "tags": []
   },
   "source": [
    "**This notebook is an exercise in the [Python](https://www.kaggle.com/learn/python) course.  You can reference the tutorial at [this link](https://www.kaggle.com/colinmorris/hello-python).**\n",
    "\n",
    "---\n"
   ]
  },
  {
   "cell_type": "markdown",
   "id": "24429711",
   "metadata": {
    "papermill": {
     "duration": 0.006242,
     "end_time": "2023-03-24T14:54:26.753013",
     "exception": false,
     "start_time": "2023-03-24T14:54:26.746771",
     "status": "completed"
    },
    "tags": []
   },
   "source": [
    "Welcome to your first set of Python coding problems.  If this is your first time using Kaggle Notebooks, welcome! \n",
    "\n",
    "Notebooks are composed of blocks (called \"cells\") of text and code. Each of these is editable, though you'll mainly be editing the code cells to answer some questions.\n",
    "\n",
    "To get started, try running the code cell below (by pressing the ► button, or clicking on the cell and pressing ctrl+enter on your keyboard)."
   ]
  },
  {
   "cell_type": "code",
   "execution_count": 1,
   "id": "0ee1f965",
   "metadata": {
    "execution": {
     "iopub.execute_input": "2023-03-24T14:54:26.768807Z",
     "iopub.status.busy": "2023-03-24T14:54:26.768167Z",
     "iopub.status.idle": "2023-03-24T14:54:26.784921Z",
     "shell.execute_reply": "2023-03-24T14:54:26.783070Z"
    },
    "papermill": {
     "duration": 0.02835,
     "end_time": "2023-03-24T14:54:26.787703",
     "exception": false,
     "start_time": "2023-03-24T14:54:26.759353",
     "status": "completed"
    },
    "tags": []
   },
   "outputs": [
    {
     "name": "stdout",
     "output_type": "stream",
     "text": [
      "Look Mum I can fly\n",
      "You've successfully run some Python code\n",
      "Congratulations!\n"
     ]
    }
   ],
   "source": [
    "print(\"Look Mum I can fly\")\n",
    "print(\"You've successfully run some Python code\")\n",
    "print(\"Congratulations!\")"
   ]
  },
  {
   "cell_type": "markdown",
   "id": "ba1a7399",
   "metadata": {
    "papermill": {
     "duration": 0.006599,
     "end_time": "2023-03-24T14:54:26.801096",
     "exception": false,
     "start_time": "2023-03-24T14:54:26.794497",
     "status": "completed"
    },
    "tags": []
   },
   "source": [
    "Try adding another line of code in the cell above and re-running it. \n",
    "\n",
    "Now let's get a little fancier:  Add a new code cell by clicking on an existing code cell, hitting the escape key, and then hitting the `a` or `b` key.  The `a` key will add a cell above the current cell, and `b` adds a cell below.\n",
    "\n",
    "Great! Now you know how to use Notebooks.\n",
    "\n",
    "Each hands-on exercise starts by setting up our feedback and code checking mechanism. Run the code cell below to do that. Then you'll be ready to move on to question 0."
   ]
  },
  {
   "cell_type": "code",
   "execution_count": 2,
   "id": "5612dbff",
   "metadata": {
    "_kg_hide-input": true,
    "_kg_hide-output": true,
    "execution": {
     "iopub.execute_input": "2023-03-24T14:54:26.817708Z",
     "iopub.status.busy": "2023-03-24T14:54:26.816324Z",
     "iopub.status.idle": "2023-03-24T14:54:26.868229Z",
     "shell.execute_reply": "2023-03-24T14:54:26.866678Z"
    },
    "papermill": {
     "duration": 0.063019,
     "end_time": "2023-03-24T14:54:26.871098",
     "exception": false,
     "start_time": "2023-03-24T14:54:26.808079",
     "status": "completed"
    },
    "tags": []
   },
   "outputs": [
    {
     "name": "stdout",
     "output_type": "stream",
     "text": [
      "Setup complete! You're ready to start question 0.\n"
     ]
    }
   ],
   "source": [
    "from learntools.core import binder; binder.bind(globals())\n",
    "from learntools.python.ex1 import *\n",
    "print(\"Setup complete! You're ready to start question 0.\")"
   ]
  },
  {
   "cell_type": "markdown",
   "id": "158a8ece",
   "metadata": {
    "papermill": {
     "duration": 0.006387,
     "end_time": "2023-03-24T14:54:26.884148",
     "exception": false,
     "start_time": "2023-03-24T14:54:26.877761",
     "status": "completed"
    },
    "tags": []
   },
   "source": [
    "# 0.\n",
    "\n",
    "*This is a silly question intended as an introduction to the format we use for hands-on exercises throughout all Kaggle courses.*\n",
    "\n",
    "**What is your favorite color? **\n",
    "\n",
    "To complete this question, create a variable called `color` in the cell below with an appropriate value. The function call `q0.check()` (which we've already provided in the cell below) will check your answer."
   ]
  },
  {
   "cell_type": "code",
   "execution_count": 3,
   "id": "db11605a",
   "metadata": {
    "execution": {
     "iopub.execute_input": "2023-03-24T14:54:26.899460Z",
     "iopub.status.busy": "2023-03-24T14:54:26.898993Z",
     "iopub.status.idle": "2023-03-24T14:54:26.910809Z",
     "shell.execute_reply": "2023-03-24T14:54:26.909273Z"
    },
    "papermill": {
     "duration": 0.022391,
     "end_time": "2023-03-24T14:54:26.913200",
     "exception": false,
     "start_time": "2023-03-24T14:54:26.890809",
     "status": "completed"
    },
    "tags": []
   },
   "outputs": [
    {
     "data": {
      "application/javascript": [
       "parent.postMessage({\"jupyterEvent\": \"custom.exercise_interaction\", \"data\": {\"outcomeType\": 1, \"valueTowardsCompletion\": 0.25, \"interactionType\": 1, \"questionType\": 2, \"questionId\": \"0_ExerciseFormatTutorial\", \"learnToolsVersion\": \"0.3.4\", \"failureMessage\": \"\", \"exceptionClass\": \"\", \"trace\": \"\"}}, \"*\")"
      ],
      "text/plain": [
       "<IPython.core.display.Javascript object>"
      ]
     },
     "metadata": {},
     "output_type": "display_data"
    },
    {
     "data": {
      "text/markdown": [
       "<span style=\"color:#33cc33\">Correct:</span> What?! You got it right without needing a hint or anything? Drats. Well hey, you should still continue to the next step to get some practice asking for a hint and checking solutions. (Even though you obviously don't need any help here.)"
      ],
      "text/plain": [
       "Correct: What?! You got it right without needing a hint or anything? Drats. Well hey, you should still continue to the next step to get some practice asking for a hint and checking solutions. (Even though you obviously don't need any help here.)"
      ]
     },
     "metadata": {},
     "output_type": "display_data"
    }
   ],
   "source": [
    "# create a variable called color with an appropriate value on the line below\n",
    "# (Remember, strings in Python must be enclosed in 'single' or \"double\" quotes)\n",
    "color = \"blue\"\n",
    "\n",
    "# Check your answer\n",
    "q0.check()"
   ]
  },
  {
   "cell_type": "markdown",
   "id": "41b85612",
   "metadata": {
    "papermill": {
     "duration": 0.00689,
     "end_time": "2023-03-24T14:54:26.927030",
     "exception": false,
     "start_time": "2023-03-24T14:54:26.920140",
     "status": "completed"
    },
    "tags": []
   },
   "source": [
    "Didn't get the right answer? How do you not even know your own favorite color?!\n",
    "\n",
    "Delete the `#` in the line below to make one of the lines run. You can choose between getting a hint or the full answer by choosing which line to remove the `#` from. \n",
    "\n",
    "Removing the `#` is called uncommenting, because it changes that line from a \"comment\" which Python doesn't run to code, which Python does run."
   ]
  },
  {
   "cell_type": "code",
   "execution_count": 4,
   "id": "06434250",
   "metadata": {
    "execution": {
     "iopub.execute_input": "2023-03-24T14:54:26.942866Z",
     "iopub.status.busy": "2023-03-24T14:54:26.942182Z",
     "iopub.status.idle": "2023-03-24T14:54:26.947785Z",
     "shell.execute_reply": "2023-03-24T14:54:26.945985Z"
    },
    "papermill": {
     "duration": 0.016613,
     "end_time": "2023-03-24T14:54:26.950493",
     "exception": false,
     "start_time": "2023-03-24T14:54:26.933880",
     "status": "completed"
    },
    "tags": []
   },
   "outputs": [],
   "source": [
    "#q0.hint()\n",
    "#q0.solution()"
   ]
  },
  {
   "cell_type": "markdown",
   "id": "fbad6fa2",
   "metadata": {
    "papermill": {
     "duration": 0.006714,
     "end_time": "2023-03-24T14:54:26.964337",
     "exception": false,
     "start_time": "2023-03-24T14:54:26.957623",
     "status": "completed"
    },
    "tags": []
   },
   "source": [
    "The upcoming questions work the same way. The only thing that will change are the question numbers. For the next question, you'll call `q1.check()`, `q1.hint()`, `q1.solution()`, for question 2, you'll call `q2.check()`, and so on."
   ]
  },
  {
   "cell_type": "markdown",
   "id": "2d475d2a",
   "metadata": {
    "papermill": {
     "duration": 0.006605,
     "end_time": "2023-03-24T14:54:26.978155",
     "exception": false,
     "start_time": "2023-03-24T14:54:26.971550",
     "status": "completed"
    },
    "tags": []
   },
   "source": [
    "<hr/>\n",
    "\n",
    "# 1.\n",
    "\n",
    "Complete the code below. In case it's helpful, here is the table of available arithmetic operations:\n",
    "\n",
    "\n",
    "\n",
    "| Operator     | Name           | Description                                            |\n",
    "|--------------|----------------|--------------------------------------------------------|\n",
    "| ``a + b``    | Addition       | Sum of ``a`` and ``b``                                 |\n",
    "| ``a - b``    | Subtraction    | Difference of ``a`` and ``b``                          |\n",
    "| ``a * b``    | Multiplication | Product of ``a`` and ``b``                             |\n",
    "| ``a / b``    | True division  | Quotient of ``a`` and ``b``                            |\n",
    "| ``a // b``   | Floor division | Quotient of ``a`` and ``b``, removing fractional parts |\n",
    "| ``a % b``    | Modulus        | Integer remainder after division of ``a`` by ``b``     |\n",
    "| ``a ** b``   | Exponentiation | ``a`` raised to the power of ``b``                     |\n",
    "| ``-a``       | Negation       | The negative of ``a``                                  |\n",
    "\n",
    "<span style=\"display:none\"></span>\n"
   ]
  },
  {
   "cell_type": "code",
   "execution_count": 5,
   "id": "e782d683",
   "metadata": {
    "execution": {
     "iopub.execute_input": "2023-03-24T14:54:26.995377Z",
     "iopub.status.busy": "2023-03-24T14:54:26.994961Z",
     "iopub.status.idle": "2023-03-24T14:54:27.005425Z",
     "shell.execute_reply": "2023-03-24T14:54:27.004203Z"
    },
    "papermill": {
     "duration": 0.021777,
     "end_time": "2023-03-24T14:54:27.007952",
     "exception": false,
     "start_time": "2023-03-24T14:54:26.986175",
     "status": "completed"
    },
    "tags": []
   },
   "outputs": [
    {
     "data": {
      "application/javascript": [
       "parent.postMessage({\"jupyterEvent\": \"custom.exercise_interaction\", \"data\": {\"outcomeType\": 1, \"valueTowardsCompletion\": 0.25, \"interactionType\": 1, \"questionType\": 1, \"questionId\": \"1_CircleArea\", \"learnToolsVersion\": \"0.3.4\", \"failureMessage\": \"\", \"exceptionClass\": \"\", \"trace\": \"\"}}, \"*\")"
      ],
      "text/plain": [
       "<IPython.core.display.Javascript object>"
      ]
     },
     "metadata": {},
     "output_type": "display_data"
    },
    {
     "data": {
      "text/markdown": [
       "<span style=\"color:#33cc33\">Correct</span>"
      ],
      "text/plain": [
       "Correct"
      ]
     },
     "metadata": {},
     "output_type": "display_data"
    }
   ],
   "source": [
    "pi = 3.14159 # approximate\n",
    "diameter = 3\n",
    "\n",
    "# Create a variable called 'radius' equal to half the diameter\n",
    "radius  = diameter / 2\n",
    "\n",
    "# Create a variable called 'area', using the formula for the area of a circle: pi times the radius squared\n",
    "area = pi * (radius ** 2)\n",
    "\n",
    "# Check your answer\n",
    "q1.check()"
   ]
  },
  {
   "cell_type": "code",
   "execution_count": 6,
   "id": "4277b8d5",
   "metadata": {
    "execution": {
     "iopub.execute_input": "2023-03-24T14:54:27.024099Z",
     "iopub.status.busy": "2023-03-24T14:54:27.023692Z",
     "iopub.status.idle": "2023-03-24T14:54:27.028719Z",
     "shell.execute_reply": "2023-03-24T14:54:27.027155Z"
    },
    "papermill": {
     "duration": 0.016133,
     "end_time": "2023-03-24T14:54:27.031294",
     "exception": false,
     "start_time": "2023-03-24T14:54:27.015161",
     "status": "completed"
    },
    "tags": []
   },
   "outputs": [],
   "source": [
    "# Uncomment and run the lines below if you need help.\n",
    "#q1.hint()\n",
    "#q1.solution()"
   ]
  },
  {
   "cell_type": "markdown",
   "id": "8d9ef711",
   "metadata": {
    "papermill": {
     "duration": 0.007488,
     "end_time": "2023-03-24T14:54:27.046624",
     "exception": false,
     "start_time": "2023-03-24T14:54:27.039136",
     "status": "completed"
    },
    "tags": []
   },
   "source": [
    "<hr/>\n",
    "\n",
    "# 2.\n",
    "\n",
    "Add code to the following cell to swap variables `a` and `b` (so that `a` refers to the object previously referred to by `b` and vice versa)."
   ]
  },
  {
   "cell_type": "code",
   "execution_count": 7,
   "id": "03d77fe2",
   "metadata": {
    "execution": {
     "iopub.execute_input": "2023-03-24T14:54:27.064204Z",
     "iopub.status.busy": "2023-03-24T14:54:27.063775Z",
     "iopub.status.idle": "2023-03-24T14:54:27.075384Z",
     "shell.execute_reply": "2023-03-24T14:54:27.074415Z"
    },
    "papermill": {
     "duration": 0.023051,
     "end_time": "2023-03-24T14:54:27.078050",
     "exception": false,
     "start_time": "2023-03-24T14:54:27.054999",
     "status": "completed"
    },
    "tags": []
   },
   "outputs": [
    {
     "data": {
      "application/javascript": [
       "parent.postMessage({\"jupyterEvent\": \"custom.exercise_interaction\", \"data\": {\"outcomeType\": 1, \"valueTowardsCompletion\": 0.25, \"interactionType\": 1, \"questionType\": 2, \"questionId\": \"2_VariableSwap\", \"learnToolsVersion\": \"0.3.4\", \"failureMessage\": \"\", \"exceptionClass\": \"\", \"trace\": \"\"}}, \"*\")"
      ],
      "text/plain": [
       "<IPython.core.display.Javascript object>"
      ]
     },
     "metadata": {},
     "output_type": "display_data"
    },
    {
     "data": {
      "text/markdown": [
       "<span style=\"color:#33cc33\">Correct:</span> \n",
       "\n",
       "The most straightforward solution is to use a third variable to temporarily store one of the old values. e.g.:\n",
       "\n",
       "    tmp = a\n",
       "    a = b\n",
       "    b = tmp\n",
       "\n",
       "If you've read lots of Python code, you might have seen the following trick to swap two variables in one line:\n",
       "\n",
       "    a, b = b, a\n",
       "\n",
       "We'll demystify this bit of Python magic later when we talk about *tuples*."
      ],
      "text/plain": [
       "Correct: \n",
       "\n",
       "The most straightforward solution is to use a third variable to temporarily store one of the old values. e.g.:\n",
       "\n",
       "    tmp = a\n",
       "    a = b\n",
       "    b = tmp\n",
       "\n",
       "If you've read lots of Python code, you might have seen the following trick to swap two variables in one line:\n",
       "\n",
       "    a, b = b, a\n",
       "\n",
       "We'll demystify this bit of Python magic later when we talk about *tuples*."
      ]
     },
     "metadata": {},
     "output_type": "display_data"
    }
   ],
   "source": [
    "########### Setup code - don't touch this part ######################\n",
    "# If you're curious, these are examples of lists. We'll talk about \n",
    "# them in depth a few lessons from now. For now, just know that they're\n",
    "# yet another type of Python object, like int or float.\n",
    "a = [1, 2, 3]\n",
    "b = [3, 2, 1]\n",
    "q2.store_original_ids()\n",
    "######################################################################\n",
    "\n",
    "# Your code goes here. Swap the values to which a and b refer.\n",
    "# If you get stuck, you can always uncomment one or both of the lines in\n",
    "# the next cell for a hint, or to peek at the solution.\n",
    "c = a\n",
    "a = b\n",
    "b = c \n",
    "######################################################################\n",
    "\n",
    "# Check your answer\n",
    "q2.check()"
   ]
  },
  {
   "cell_type": "code",
   "execution_count": 8,
   "id": "61314651",
   "metadata": {
    "execution": {
     "iopub.execute_input": "2023-03-24T14:54:27.096645Z",
     "iopub.status.busy": "2023-03-24T14:54:27.096223Z",
     "iopub.status.idle": "2023-03-24T14:54:27.101287Z",
     "shell.execute_reply": "2023-03-24T14:54:27.100115Z"
    },
    "papermill": {
     "duration": 0.018019,
     "end_time": "2023-03-24T14:54:27.104367",
     "exception": false,
     "start_time": "2023-03-24T14:54:27.086348",
     "status": "completed"
    },
    "tags": []
   },
   "outputs": [],
   "source": [
    "#q2.hint()"
   ]
  },
  {
   "cell_type": "code",
   "execution_count": 9,
   "id": "f2f179ee",
   "metadata": {
    "execution": {
     "iopub.execute_input": "2023-03-24T14:54:27.121804Z",
     "iopub.status.busy": "2023-03-24T14:54:27.121299Z",
     "iopub.status.idle": "2023-03-24T14:54:27.127041Z",
     "shell.execute_reply": "2023-03-24T14:54:27.125714Z"
    },
    "papermill": {
     "duration": 0.017603,
     "end_time": "2023-03-24T14:54:27.129662",
     "exception": false,
     "start_time": "2023-03-24T14:54:27.112059",
     "status": "completed"
    },
    "tags": []
   },
   "outputs": [],
   "source": [
    "#q2.solution()"
   ]
  },
  {
   "cell_type": "markdown",
   "id": "7c7c83cc",
   "metadata": {
    "papermill": {
     "duration": 0.007704,
     "end_time": "2023-03-24T14:54:27.145110",
     "exception": false,
     "start_time": "2023-03-24T14:54:27.137406",
     "status": "completed"
    },
    "tags": []
   },
   "source": [
    "<hr/>\n",
    "\n",
    "# 3a.\n",
    "\n",
    "Add parentheses to the following expression so that it evaluates to 1."
   ]
  },
  {
   "cell_type": "code",
   "execution_count": 10,
   "id": "af48955a",
   "metadata": {
    "execution": {
     "iopub.execute_input": "2023-03-24T14:54:27.163289Z",
     "iopub.status.busy": "2023-03-24T14:54:27.162881Z",
     "iopub.status.idle": "2023-03-24T14:54:27.169883Z",
     "shell.execute_reply": "2023-03-24T14:54:27.168774Z"
    },
    "papermill": {
     "duration": 0.018964,
     "end_time": "2023-03-24T14:54:27.172393",
     "exception": false,
     "start_time": "2023-03-24T14:54:27.153429",
     "status": "completed"
    },
    "tags": []
   },
   "outputs": [
    {
     "data": {
      "text/plain": [
       "1"
      ]
     },
     "execution_count": 10,
     "metadata": {},
     "output_type": "execute_result"
    }
   ],
   "source": [
    "(5 - 3) // 2"
   ]
  },
  {
   "cell_type": "code",
   "execution_count": 11,
   "id": "676ef4a5",
   "metadata": {
    "execution": {
     "iopub.execute_input": "2023-03-24T14:54:27.192337Z",
     "iopub.status.busy": "2023-03-24T14:54:27.191913Z",
     "iopub.status.idle": "2023-03-24T14:54:27.196367Z",
     "shell.execute_reply": "2023-03-24T14:54:27.195013Z"
    },
    "papermill": {
     "duration": 0.018005,
     "end_time": "2023-03-24T14:54:27.198854",
     "exception": false,
     "start_time": "2023-03-24T14:54:27.180849",
     "status": "completed"
    },
    "tags": []
   },
   "outputs": [],
   "source": [
    "#q3.a.hint()"
   ]
  },
  {
   "cell_type": "code",
   "execution_count": 12,
   "id": "3dc761cd",
   "metadata": {
    "execution": {
     "iopub.execute_input": "2023-03-24T14:54:27.218064Z",
     "iopub.status.busy": "2023-03-24T14:54:27.217511Z",
     "iopub.status.idle": "2023-03-24T14:54:27.228432Z",
     "shell.execute_reply": "2023-03-24T14:54:27.226429Z"
    },
    "papermill": {
     "duration": 0.024445,
     "end_time": "2023-03-24T14:54:27.231550",
     "exception": false,
     "start_time": "2023-03-24T14:54:27.207105",
     "status": "completed"
    },
    "tags": []
   },
   "outputs": [
    {
     "data": {
      "application/javascript": [
       "parent.postMessage({\"jupyterEvent\": \"custom.exercise_interaction\", \"data\": {\"interactionType\": 3, \"questionType\": 4, \"questionId\": \"3.1_ArithmeticParensEasy\", \"learnToolsVersion\": \"0.3.4\", \"valueTowardsCompletion\": 0.0, \"failureMessage\": \"\", \"exceptionClass\": \"\", \"trace\": \"\", \"outcomeType\": 4}}, \"*\")"
      ],
      "text/plain": [
       "<IPython.core.display.Javascript object>"
      ]
     },
     "metadata": {},
     "output_type": "display_data"
    },
    {
     "data": {
      "text/markdown": [
       "<span style=\"color:#33cc99\">Solution:</span> \n",
       "```python\n",
       "(5 - 3) // 2\n",
       "```"
      ],
      "text/plain": [
       "Solution: \n",
       "```python\n",
       "(5 - 3) // 2\n",
       "```"
      ]
     },
     "metadata": {},
     "output_type": "display_data"
    }
   ],
   "source": [
    "# Check your answer (Run this code cell to receive credit!)\n",
    "q3.a.solution()"
   ]
  },
  {
   "cell_type": "markdown",
   "id": "f000a90e",
   "metadata": {
    "papermill": {
     "duration": 0.008928,
     "end_time": "2023-03-24T14:54:27.249254",
     "exception": false,
     "start_time": "2023-03-24T14:54:27.240326",
     "status": "completed"
    },
    "tags": []
   },
   "source": [
    "# 3b.  <span title=\"A bit spicy\" style=\"color: darkgreen \">🌶️</span>\n",
    "\n",
    "<small>Questions, like this one, marked a spicy pepper are a bit harder.</small>\n",
    "\n",
    "Add parentheses to the following expression so that it evaluates to 0."
   ]
  },
  {
   "cell_type": "code",
   "execution_count": 13,
   "id": "98460373",
   "metadata": {
    "execution": {
     "iopub.execute_input": "2023-03-24T14:54:27.268365Z",
     "iopub.status.busy": "2023-03-24T14:54:27.267476Z",
     "iopub.status.idle": "2023-03-24T14:54:27.276792Z",
     "shell.execute_reply": "2023-03-24T14:54:27.273198Z"
    },
    "papermill": {
     "duration": 0.023214,
     "end_time": "2023-03-24T14:54:27.281050",
     "exception": false,
     "start_time": "2023-03-24T14:54:27.257836",
     "status": "completed"
    },
    "tags": []
   },
   "outputs": [
    {
     "data": {
      "text/plain": [
       "0"
      ]
     },
     "execution_count": 13,
     "metadata": {},
     "output_type": "execute_result"
    }
   ],
   "source": [
    "8 - (3 * 2) - (1 + 1)"
   ]
  },
  {
   "cell_type": "code",
   "execution_count": 14,
   "id": "f6743a05",
   "metadata": {
    "execution": {
     "iopub.execute_input": "2023-03-24T14:54:27.299252Z",
     "iopub.status.busy": "2023-03-24T14:54:27.298846Z",
     "iopub.status.idle": "2023-03-24T14:54:27.302970Z",
     "shell.execute_reply": "2023-03-24T14:54:27.301999Z"
    },
    "papermill": {
     "duration": 0.015949,
     "end_time": "2023-03-24T14:54:27.305136",
     "exception": false,
     "start_time": "2023-03-24T14:54:27.289187",
     "status": "completed"
    },
    "tags": []
   },
   "outputs": [],
   "source": [
    "#q3.b.hint()"
   ]
  },
  {
   "cell_type": "code",
   "execution_count": 15,
   "id": "05d6ed80",
   "metadata": {
    "execution": {
     "iopub.execute_input": "2023-03-24T14:54:27.324203Z",
     "iopub.status.busy": "2023-03-24T14:54:27.323798Z",
     "iopub.status.idle": "2023-03-24T14:54:27.332154Z",
     "shell.execute_reply": "2023-03-24T14:54:27.331179Z"
    },
    "papermill": {
     "duration": 0.021042,
     "end_time": "2023-03-24T14:54:27.334503",
     "exception": false,
     "start_time": "2023-03-24T14:54:27.313461",
     "status": "completed"
    },
    "tags": []
   },
   "outputs": [
    {
     "data": {
      "application/javascript": [
       "parent.postMessage({\"jupyterEvent\": \"custom.exercise_interaction\", \"data\": {\"interactionType\": 3, \"questionType\": 4, \"questionId\": \"3.2_ArithmeticParensHard\", \"learnToolsVersion\": \"0.3.4\", \"valueTowardsCompletion\": 0.0, \"failureMessage\": \"\", \"exceptionClass\": \"\", \"trace\": \"\", \"outcomeType\": 4}}, \"*\")"
      ],
      "text/plain": [
       "<IPython.core.display.Javascript object>"
      ]
     },
     "metadata": {},
     "output_type": "display_data"
    },
    {
     "data": {
      "text/markdown": [
       "<span style=\"color:#33cc99\">Solution:</span> `(8 - 3) * (2 - (1 + 1))` is one solution. There may be others."
      ],
      "text/plain": [
       "Solution: `(8 - 3) * (2 - (1 + 1))` is one solution. There may be others."
      ]
     },
     "metadata": {},
     "output_type": "display_data"
    }
   ],
   "source": [
    "# Check your answer (Run this code cell to receive credit!)\n",
    "q3.b.solution()"
   ]
  },
  {
   "cell_type": "markdown",
   "id": "f080e0a2",
   "metadata": {
    "papermill": {
     "duration": 0.009305,
     "end_time": "2023-03-24T14:54:27.352459",
     "exception": false,
     "start_time": "2023-03-24T14:54:27.343154",
     "status": "completed"
    },
    "tags": []
   },
   "source": [
    "<hr/>\n",
    "\n",
    "# 4. \n",
    "Alice, Bob and Carol have agreed to pool their Halloween candy and split it evenly among themselves.\n",
    "For the sake of their friendship, any candies left over will be smashed. For example, if they collectively\n",
    "bring home 91 candies, they'll take 30 each and smash 1.\n",
    "\n",
    "Write an arithmetic expression below to calculate how many candies they must smash for a given haul."
   ]
  },
  {
   "cell_type": "code",
   "execution_count": 16,
   "id": "7893fe4b",
   "metadata": {
    "execution": {
     "iopub.execute_input": "2023-03-24T14:54:27.372353Z",
     "iopub.status.busy": "2023-03-24T14:54:27.371542Z",
     "iopub.status.idle": "2023-03-24T14:54:27.382083Z",
     "shell.execute_reply": "2023-03-24T14:54:27.380789Z"
    },
    "papermill": {
     "duration": 0.02355,
     "end_time": "2023-03-24T14:54:27.384552",
     "exception": false,
     "start_time": "2023-03-24T14:54:27.361002",
     "status": "completed"
    },
    "tags": []
   },
   "outputs": [
    {
     "data": {
      "application/javascript": [
       "parent.postMessage({\"jupyterEvent\": \"custom.exercise_interaction\", \"data\": {\"outcomeType\": 1, \"valueTowardsCompletion\": 0.25, \"interactionType\": 1, \"questionType\": 1, \"questionId\": \"4_CandySplitting\", \"learnToolsVersion\": \"0.3.4\", \"failureMessage\": \"\", \"exceptionClass\": \"\", \"trace\": \"\"}}, \"*\")"
      ],
      "text/plain": [
       "<IPython.core.display.Javascript object>"
      ]
     },
     "metadata": {},
     "output_type": "display_data"
    },
    {
     "data": {
      "text/markdown": [
       "<span style=\"color:#33cc33\">Correct</span>"
      ],
      "text/plain": [
       "Correct"
      ]
     },
     "metadata": {},
     "output_type": "display_data"
    }
   ],
   "source": [
    "# Variables representing the number of candies collected by alice, bob, and carol\n",
    "alice_candies = 121\n",
    "bob_candies = 77\n",
    "carol_candies = 109\n",
    "\n",
    "# Your code goes here! Replace the right-hand side of this assignment with an expression\n",
    "# involving alice_candies, bob_candies, and carol_candies\n",
    "to_smash = (alice_candies + bob_candies + carol_candies)%3\n",
    "\n",
    "# Check your answer\n",
    "q4.check()"
   ]
  },
  {
   "cell_type": "code",
   "execution_count": 17,
   "id": "ce76b35b",
   "metadata": {
    "execution": {
     "iopub.execute_input": "2023-03-24T14:54:27.404417Z",
     "iopub.status.busy": "2023-03-24T14:54:27.403992Z",
     "iopub.status.idle": "2023-03-24T14:54:27.409462Z",
     "shell.execute_reply": "2023-03-24T14:54:27.408232Z"
    },
    "papermill": {
     "duration": 0.018397,
     "end_time": "2023-03-24T14:54:27.411774",
     "exception": false,
     "start_time": "2023-03-24T14:54:27.393377",
     "status": "completed"
    },
    "tags": []
   },
   "outputs": [],
   "source": [
    "#q4.hint()\n",
    "#q4.solution()"
   ]
  },
  {
   "cell_type": "markdown",
   "id": "c2e74e74",
   "metadata": {
    "papermill": {
     "duration": 0.008465,
     "end_time": "2023-03-24T14:54:27.428973",
     "exception": false,
     "start_time": "2023-03-24T14:54:27.420508",
     "status": "completed"
    },
    "tags": []
   },
   "source": [
    "# Keep Going\n",
    "\n",
    "Next up, you'll **[learn to write new functions and understand functions others write](https://www.kaggle.com/colinmorris/functions-and-getting-help)**. This will make you at least 10 times more productive as a Python programmer. "
   ]
  },
  {
   "cell_type": "markdown",
   "id": "eff416d2",
   "metadata": {
    "papermill": {
     "duration": 0.008297,
     "end_time": "2023-03-24T14:54:27.445870",
     "exception": false,
     "start_time": "2023-03-24T14:54:27.437573",
     "status": "completed"
    },
    "tags": []
   },
   "source": [
    "---\n",
    "\n",
    "\n",
    "\n",
    "\n",
    "*Have questions or comments? Visit the [course discussion forum](https://www.kaggle.com/learn/python/discussion) to chat with other learners.*"
   ]
  }
 ],
 "metadata": {
  "kernelspec": {
   "display_name": "Python 3",
   "language": "python",
   "name": "python3"
  },
  "language_info": {
   "codemirror_mode": {
    "name": "ipython",
    "version": 3
   },
   "file_extension": ".py",
   "mimetype": "text/x-python",
   "name": "python",
   "nbconvert_exporter": "python",
   "pygments_lexer": "ipython3",
   "version": "3.7.12"
  },
  "papermill": {
   "default_parameters": {},
   "duration": 12.372705,
   "end_time": "2023-03-24T14:54:28.178100",
   "environment_variables": {},
   "exception": null,
   "input_path": "__notebook__.ipynb",
   "output_path": "__notebook__.ipynb",
   "parameters": {},
   "start_time": "2023-03-24T14:54:15.805395",
   "version": "2.4.0"
  }
 },
 "nbformat": 4,
 "nbformat_minor": 5
}
