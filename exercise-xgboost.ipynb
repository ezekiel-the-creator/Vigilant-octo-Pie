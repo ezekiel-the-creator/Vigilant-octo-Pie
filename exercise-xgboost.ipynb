{
 "cells": [
  {
   "cell_type": "markdown",
   "id": "ced6c6c2",
   "metadata": {
    "papermill": {
     "duration": 0.006383,
     "end_time": "2023-03-19T16:35:48.805788",
     "exception": false,
     "start_time": "2023-03-19T16:35:48.799405",
     "status": "completed"
    },
    "tags": []
   },
   "source": [
    "**This notebook is an exercise in the [Intermediate Machine Learning](https://www.kaggle.com/learn/intermediate-machine-learning) course.  You can reference the tutorial at [this link](https://www.kaggle.com/alexisbcook/xgboost).**\n",
    "\n",
    "---\n"
   ]
  },
  {
   "cell_type": "markdown",
   "id": "ff9724fe",
   "metadata": {
    "papermill": {
     "duration": 0.004825,
     "end_time": "2023-03-19T16:35:48.815897",
     "exception": false,
     "start_time": "2023-03-19T16:35:48.811072",
     "status": "completed"
    },
    "tags": []
   },
   "source": [
    "In this exercise, you will use your new knowledge to train a model with **gradient boosting**.\n",
    "\n",
    "# Setup\n",
    "\n",
    "The questions below will give you feedback on your work. Run the following cell to set up the feedback system."
   ]
  },
  {
   "cell_type": "code",
   "execution_count": 1,
   "id": "4f8465b4",
   "metadata": {
    "execution": {
     "iopub.execute_input": "2023-03-19T16:35:48.828039Z",
     "iopub.status.busy": "2023-03-19T16:35:48.827598Z",
     "iopub.status.idle": "2023-03-19T16:35:51.529969Z",
     "shell.execute_reply": "2023-03-19T16:35:51.528396Z"
    },
    "papermill": {
     "duration": 2.712881,
     "end_time": "2023-03-19T16:35:51.533927",
     "exception": false,
     "start_time": "2023-03-19T16:35:48.821046",
     "status": "completed"
    },
    "tags": []
   },
   "outputs": [
    {
     "name": "stdout",
     "output_type": "stream",
     "text": [
      "Setup Complete\n"
     ]
    }
   ],
   "source": [
    "# Set up code checking\n",
    "import os\n",
    "if not os.path.exists(\"../input/train.csv\"):\n",
    "    os.symlink(\"../input/home-data-for-ml-course/train.csv\", \"../input/train.csv\")  \n",
    "    os.symlink(\"../input/home-data-for-ml-course/test.csv\", \"../input/test.csv\") \n",
    "from learntools.core import binder\n",
    "binder.bind(globals())\n",
    "from learntools.ml_intermediate.ex6 import *\n",
    "print(\"Setup Complete\")"
   ]
  },
  {
   "cell_type": "markdown",
   "id": "e7eb631c",
   "metadata": {
    "papermill": {
     "duration": 0.005089,
     "end_time": "2023-03-19T16:35:51.545438",
     "exception": false,
     "start_time": "2023-03-19T16:35:51.540349",
     "status": "completed"
    },
    "tags": []
   },
   "source": [
    "You will work with the [Housing Prices Competition for Kaggle Learn Users](https://www.kaggle.com/c/home-data-for-ml-course) dataset from the previous exercise. \n",
    "\n",
    "![Ames Housing dataset image](https://i.imgur.com/lTJVG4e.png)\n",
    "\n",
    "Run the next code cell without changes to load the training and validation sets in `X_train`, `X_valid`, `y_train`, and `y_valid`.  The test set is loaded in `X_test`."
   ]
  },
  {
   "cell_type": "code",
   "execution_count": 2,
   "id": "3235399a",
   "metadata": {
    "execution": {
     "iopub.execute_input": "2023-03-19T16:35:51.559074Z",
     "iopub.status.busy": "2023-03-19T16:35:51.558650Z",
     "iopub.status.idle": "2023-03-19T16:35:51.748099Z",
     "shell.execute_reply": "2023-03-19T16:35:51.746699Z"
    },
    "papermill": {
     "duration": 0.199803,
     "end_time": "2023-03-19T16:35:51.751112",
     "exception": false,
     "start_time": "2023-03-19T16:35:51.551309",
     "status": "completed"
    },
    "tags": []
   },
   "outputs": [],
   "source": [
    "import pandas as pd\n",
    "from sklearn.model_selection import train_test_split\n",
    "\n",
    "# Read the data\n",
    "X = pd.read_csv('../input/train.csv', index_col='Id')\n",
    "X_test_full = pd.read_csv('../input/test.csv', index_col='Id')\n",
    "\n",
    "# Remove rows with missing target, separate target from predictors\n",
    "X.dropna(axis=0, subset=['SalePrice'], inplace=True)\n",
    "y = X.SalePrice              \n",
    "X.drop(['SalePrice'], axis=1, inplace=True)\n",
    "\n",
    "# Break off validation set from training data\n",
    "X_train_full, X_valid_full, y_train, y_valid = train_test_split(X, y, train_size=0.8, test_size=0.2,\n",
    "                                                                random_state=0)\n",
    "\n",
    "# \"Cardinality\" means the number of unique values in a column\n",
    "# Select categorical columns with relatively low cardinality (convenient but arbitrary)\n",
    "low_cardinality_cols = [cname for cname in X_train_full.columns if X_train_full[cname].nunique() < 10 and \n",
    "                        X_train_full[cname].dtype == \"object\"]\n",
    "\n",
    "# Select numeric columns\n",
    "numeric_cols = [cname for cname in X_train_full.columns if X_train_full[cname].dtype in ['int64', 'float64']]\n",
    "\n",
    "# Keep selected columns only\n",
    "my_cols = low_cardinality_cols + numeric_cols\n",
    "X_train = X_train_full[my_cols].copy()\n",
    "X_valid = X_valid_full[my_cols].copy()\n",
    "X_test = X_test_full[my_cols].copy()\n",
    "\n",
    "# One-hot encode the data (to shorten the code, we use pandas)\n",
    "X_train = pd.get_dummies(X_train)\n",
    "X_valid = pd.get_dummies(X_valid)\n",
    "X_test = pd.get_dummies(X_test)\n",
    "X_train, X_valid = X_train.align(X_valid, join='left', axis=1)\n",
    "X_train, X_test = X_train.align(X_test, join='left', axis=1)"
   ]
  },
  {
   "cell_type": "markdown",
   "id": "15f8a2b0",
   "metadata": {
    "papermill": {
     "duration": 0.005106,
     "end_time": "2023-03-19T16:35:51.761818",
     "exception": false,
     "start_time": "2023-03-19T16:35:51.756712",
     "status": "completed"
    },
    "tags": []
   },
   "source": [
    "# Step 1: Build model\n",
    "\n",
    "### Part A\n",
    "\n",
    "In this step, you'll build and train your first model with gradient boosting.\n",
    "\n",
    "- Begin by setting `my_model_1` to an XGBoost model.  Use the [XGBRegressor](https://xgboost.readthedocs.io/en/latest/python/python_api.html#xgboost.XGBRegressor) class, and set the random seed to 0 (`random_state=0`).  **Leave all other parameters as default.**\n",
    "- Then, fit the model to the training data in `X_train` and `y_train`."
   ]
  },
  {
   "cell_type": "code",
   "execution_count": 3,
   "id": "cfcb8057",
   "metadata": {
    "execution": {
     "iopub.execute_input": "2023-03-19T16:35:51.774434Z",
     "iopub.status.busy": "2023-03-19T16:35:51.774033Z",
     "iopub.status.idle": "2023-03-19T16:35:52.747043Z",
     "shell.execute_reply": "2023-03-19T16:35:52.746042Z"
    },
    "papermill": {
     "duration": 0.982892,
     "end_time": "2023-03-19T16:35:52.749936",
     "exception": false,
     "start_time": "2023-03-19T16:35:51.767044",
     "status": "completed"
    },
    "tags": []
   },
   "outputs": [
    {
     "data": {
      "application/javascript": [
       "parent.postMessage({\"jupyterEvent\": \"custom.exercise_interaction\", \"data\": {\"outcomeType\": 1, \"valueTowardsCompletion\": 0.5, \"interactionType\": 1, \"questionType\": 2, \"questionId\": \"1.1_Model1A\", \"learnToolsVersion\": \"0.3.4\", \"failureMessage\": \"\", \"exceptionClass\": \"\", \"trace\": \"\"}}, \"*\")"
      ],
      "text/plain": [
       "<IPython.core.display.Javascript object>"
      ]
     },
     "metadata": {},
     "output_type": "display_data"
    },
    {
     "data": {
      "text/markdown": [
       "<span style=\"color:#33cc33\">Correct</span>"
      ],
      "text/plain": [
       "Correct"
      ]
     },
     "metadata": {},
     "output_type": "display_data"
    }
   ],
   "source": [
    "from xgboost import XGBRegressor\n",
    "\n",
    "# Define the model\n",
    "my_model_1 = XGBRegressor(random_state = 0) # Your code here\n",
    "\n",
    "# Fit the model\n",
    "my_model_1.fit(X_train, y_train) # Your code here\n",
    "\n",
    "# Check your answer\n",
    "step_1.a.check()"
   ]
  },
  {
   "cell_type": "code",
   "execution_count": 4,
   "id": "b7b6fa70",
   "metadata": {
    "execution": {
     "iopub.execute_input": "2023-03-19T16:35:52.763735Z",
     "iopub.status.busy": "2023-03-19T16:35:52.763293Z",
     "iopub.status.idle": "2023-03-19T16:35:52.767461Z",
     "shell.execute_reply": "2023-03-19T16:35:52.766384Z"
    },
    "papermill": {
     "duration": 0.013727,
     "end_time": "2023-03-19T16:35:52.769736",
     "exception": false,
     "start_time": "2023-03-19T16:35:52.756009",
     "status": "completed"
    },
    "tags": []
   },
   "outputs": [],
   "source": [
    "# Lines below will give you a hint or solution code\n",
    "#step_1.a.hint()\n",
    "#step_1.a.solution()"
   ]
  },
  {
   "cell_type": "markdown",
   "id": "828ad444",
   "metadata": {
    "papermill": {
     "duration": 0.005271,
     "end_time": "2023-03-19T16:35:52.780648",
     "exception": false,
     "start_time": "2023-03-19T16:35:52.775377",
     "status": "completed"
    },
    "tags": []
   },
   "source": [
    "### Part B\n",
    "\n",
    "Set `predictions_1` to the model's predictions for the validation data.  Recall that the validation features are stored in `X_valid`."
   ]
  },
  {
   "cell_type": "code",
   "execution_count": 5,
   "id": "4463c060",
   "metadata": {
    "execution": {
     "iopub.execute_input": "2023-03-19T16:35:52.794117Z",
     "iopub.status.busy": "2023-03-19T16:35:52.793239Z",
     "iopub.status.idle": "2023-03-19T16:35:52.817080Z",
     "shell.execute_reply": "2023-03-19T16:35:52.816016Z"
    },
    "papermill": {
     "duration": 0.033949,
     "end_time": "2023-03-19T16:35:52.820047",
     "exception": false,
     "start_time": "2023-03-19T16:35:52.786098",
     "status": "completed"
    },
    "tags": []
   },
   "outputs": [
    {
     "data": {
      "application/javascript": [
       "parent.postMessage({\"jupyterEvent\": \"custom.exercise_interaction\", \"data\": {\"outcomeType\": 1, \"valueTowardsCompletion\": 0.5, \"interactionType\": 1, \"questionType\": 2, \"questionId\": \"1.2_Model1B\", \"learnToolsVersion\": \"0.3.4\", \"failureMessage\": \"\", \"exceptionClass\": \"\", \"trace\": \"\"}}, \"*\")"
      ],
      "text/plain": [
       "<IPython.core.display.Javascript object>"
      ]
     },
     "metadata": {},
     "output_type": "display_data"
    },
    {
     "data": {
      "text/markdown": [
       "<span style=\"color:#33cc33\">Correct</span>"
      ],
      "text/plain": [
       "Correct"
      ]
     },
     "metadata": {},
     "output_type": "display_data"
    }
   ],
   "source": [
    "from sklearn.metrics import mean_absolute_error\n",
    "\n",
    "# Get predictions\n",
    "predictions_1 = my_model_1.predict(X_valid) # Your code here\n",
    "\n",
    "# Check your answer\n",
    "step_1.b.check()"
   ]
  },
  {
   "cell_type": "code",
   "execution_count": 6,
   "id": "bb3a8f03",
   "metadata": {
    "execution": {
     "iopub.execute_input": "2023-03-19T16:35:52.834427Z",
     "iopub.status.busy": "2023-03-19T16:35:52.834025Z",
     "iopub.status.idle": "2023-03-19T16:35:52.843223Z",
     "shell.execute_reply": "2023-03-19T16:35:52.841986Z"
    },
    "papermill": {
     "duration": 0.018776,
     "end_time": "2023-03-19T16:35:52.845533",
     "exception": false,
     "start_time": "2023-03-19T16:35:52.826757",
     "status": "completed"
    },
    "tags": []
   },
   "outputs": [
    {
     "data": {
      "application/javascript": [
       "parent.postMessage({\"jupyterEvent\": \"custom.exercise_interaction\", \"data\": {\"interactionType\": 2, \"questionType\": 2, \"questionId\": \"1.2_Model1B\", \"learnToolsVersion\": \"0.3.4\", \"valueTowardsCompletion\": 0.0, \"failureMessage\": \"\", \"exceptionClass\": \"\", \"trace\": \"\", \"outcomeType\": 4}}, \"*\")"
      ],
      "text/plain": [
       "<IPython.core.display.Javascript object>"
      ]
     },
     "metadata": {},
     "output_type": "display_data"
    },
    {
     "data": {
      "text/markdown": [
       "<span style=\"color:#3366cc\">Hint:</span> Use the `predict()` method to generate validation predictions."
      ],
      "text/plain": [
       "Hint: Use the `predict()` method to generate validation predictions."
      ]
     },
     "metadata": {},
     "output_type": "display_data"
    }
   ],
   "source": [
    "# Lines below will give you a hint or solution code\n",
    "step_1.b.hint()\n",
    "#step_1.b.solution()"
   ]
  },
  {
   "cell_type": "markdown",
   "id": "dfa2ebc4",
   "metadata": {
    "papermill": {
     "duration": 0.006796,
     "end_time": "2023-03-19T16:35:52.858470",
     "exception": false,
     "start_time": "2023-03-19T16:35:52.851674",
     "status": "completed"
    },
    "tags": []
   },
   "source": [
    "### Part C\n",
    "\n",
    "Finally, use the `mean_absolute_error()` function to calculate the mean absolute error (MAE) corresponding to the predictions for the validation set.  Recall that the labels for the validation data are stored in `y_valid`."
   ]
  },
  {
   "cell_type": "code",
   "execution_count": 7,
   "id": "21866718",
   "metadata": {
    "execution": {
     "iopub.execute_input": "2023-03-19T16:35:52.873071Z",
     "iopub.status.busy": "2023-03-19T16:35:52.871866Z",
     "iopub.status.idle": "2023-03-19T16:35:52.884245Z",
     "shell.execute_reply": "2023-03-19T16:35:52.882411Z"
    },
    "papermill": {
     "duration": 0.022513,
     "end_time": "2023-03-19T16:35:52.886990",
     "exception": false,
     "start_time": "2023-03-19T16:35:52.864477",
     "status": "completed"
    },
    "tags": []
   },
   "outputs": [
    {
     "name": "stdout",
     "output_type": "stream",
     "text": [
      "Mean Absolute Error: 17662.736729452055\n"
     ]
    },
    {
     "data": {
      "application/javascript": [
       "parent.postMessage({\"jupyterEvent\": \"custom.exercise_interaction\", \"data\": {\"outcomeType\": 1, \"valueTowardsCompletion\": 0.5, \"interactionType\": 1, \"questionType\": 2, \"questionId\": \"1.3_Model1C\", \"learnToolsVersion\": \"0.3.4\", \"failureMessage\": \"\", \"exceptionClass\": \"\", \"trace\": \"\"}}, \"*\")"
      ],
      "text/plain": [
       "<IPython.core.display.Javascript object>"
      ]
     },
     "metadata": {},
     "output_type": "display_data"
    },
    {
     "data": {
      "text/markdown": [
       "<span style=\"color:#33cc33\">Correct</span>"
      ],
      "text/plain": [
       "Correct"
      ]
     },
     "metadata": {},
     "output_type": "display_data"
    }
   ],
   "source": [
    "# Calculate MAE\n",
    "mae_1 = mean_absolute_error(predictions_1, y_valid) # Your code here\n",
    "\n",
    "# Uncomment to print MAE\n",
    "print(\"Mean Absolute Error:\" , mae_1)\n",
    "\n",
    "# Check your answer\n",
    "step_1.c.check()"
   ]
  },
  {
   "cell_type": "code",
   "execution_count": 8,
   "id": "8b939a6b",
   "metadata": {
    "execution": {
     "iopub.execute_input": "2023-03-19T16:35:52.902151Z",
     "iopub.status.busy": "2023-03-19T16:35:52.901271Z",
     "iopub.status.idle": "2023-03-19T16:35:52.906316Z",
     "shell.execute_reply": "2023-03-19T16:35:52.905063Z"
    },
    "papermill": {
     "duration": 0.015654,
     "end_time": "2023-03-19T16:35:52.909078",
     "exception": false,
     "start_time": "2023-03-19T16:35:52.893424",
     "status": "completed"
    },
    "tags": []
   },
   "outputs": [],
   "source": [
    "# Lines below will give you a hint or solution code\n",
    "#step_1.c.hint()\n",
    "#step_1.c.solution()"
   ]
  },
  {
   "cell_type": "markdown",
   "id": "773c2fb3",
   "metadata": {
    "papermill": {
     "duration": 0.006156,
     "end_time": "2023-03-19T16:35:52.921933",
     "exception": false,
     "start_time": "2023-03-19T16:35:52.915777",
     "status": "completed"
    },
    "tags": []
   },
   "source": [
    "# Step 2: Improve the model\n",
    "\n",
    "Now that you've trained a default model as baseline, it's time to tinker with the parameters, to see if you can get better performance!\n",
    "- Begin by setting `my_model_2` to an XGBoost model, using the [XGBRegressor](https://xgboost.readthedocs.io/en/latest/python/python_api.html#xgboost.XGBRegressor) class.  Use what you learned in the previous tutorial to figure out how to change the default parameters (like `n_estimators` and `learning_rate`) to get better results.\n",
    "- Then, fit the model to the training data in `X_train` and `y_train`.\n",
    "- Set `predictions_2` to the model's predictions for the validation data.  Recall that the validation features are stored in `X_valid`.\n",
    "- Finally, use the `mean_absolute_error()` function to calculate the mean absolute error (MAE) corresponding to the predictions on the validation set.  Recall that the labels for the validation data are stored in `y_valid`.\n",
    "\n",
    "In order for this step to be marked correct, your model in `my_model_2` must attain lower MAE than the model in `my_model_1`. "
   ]
  },
  {
   "cell_type": "code",
   "execution_count": 9,
   "id": "a8289792",
   "metadata": {
    "execution": {
     "iopub.execute_input": "2023-03-19T16:35:52.937015Z",
     "iopub.status.busy": "2023-03-19T16:35:52.936206Z",
     "iopub.status.idle": "2023-03-19T16:35:53.916489Z",
     "shell.execute_reply": "2023-03-19T16:35:53.915281Z"
    },
    "papermill": {
     "duration": 0.991825,
     "end_time": "2023-03-19T16:35:53.920170",
     "exception": false,
     "start_time": "2023-03-19T16:35:52.928345",
     "status": "completed"
    },
    "tags": []
   },
   "outputs": [
    {
     "name": "stdout",
     "output_type": "stream",
     "text": [
      "Mean Absolute Error: 17388.557055329624\n"
     ]
    },
    {
     "data": {
      "application/javascript": [
       "parent.postMessage({\"jupyterEvent\": \"custom.exercise_interaction\", \"data\": {\"outcomeType\": 1, \"valueTowardsCompletion\": 0.5, \"interactionType\": 1, \"questionType\": 2, \"questionId\": \"2_Model2\", \"learnToolsVersion\": \"0.3.4\", \"failureMessage\": \"\", \"exceptionClass\": \"\", \"trace\": \"\"}}, \"*\")"
      ],
      "text/plain": [
       "<IPython.core.display.Javascript object>"
      ]
     },
     "metadata": {},
     "output_type": "display_data"
    },
    {
     "data": {
      "text/markdown": [
       "<span style=\"color:#33cc33\">Correct</span>"
      ],
      "text/plain": [
       "Correct"
      ]
     },
     "metadata": {},
     "output_type": "display_data"
    }
   ],
   "source": [
    "# Define the model\n",
    "my_model_2 = XGBRegressor(n_estimators = 100, random_state = 0, learning_rate = 0.1) # Your code here\n",
    "\n",
    "# Fit the model\n",
    "my_model_2.fit(X_train, y_train) # Your code here\n",
    "\n",
    "# Get predictions\n",
    "predictions_2 = my_model_2.predict(X_valid) # Your code here\n",
    "\n",
    "# Calculate MAE\n",
    "mae_2 = mean_absolute_error(predictions_2, y_valid) # Your code here\n",
    "\n",
    "# Uncomment to print MAE\n",
    "print(\"Mean Absolute Error:\" , mae_2)\n",
    "\n",
    "# Check your answer\n",
    "step_2.check()"
   ]
  },
  {
   "cell_type": "code",
   "execution_count": 10,
   "id": "45f317a6",
   "metadata": {
    "execution": {
     "iopub.execute_input": "2023-03-19T16:35:53.938817Z",
     "iopub.status.busy": "2023-03-19T16:35:53.937395Z",
     "iopub.status.idle": "2023-03-19T16:35:53.943210Z",
     "shell.execute_reply": "2023-03-19T16:35:53.942275Z"
    },
    "papermill": {
     "duration": 0.017042,
     "end_time": "2023-03-19T16:35:53.945661",
     "exception": false,
     "start_time": "2023-03-19T16:35:53.928619",
     "status": "completed"
    },
    "tags": []
   },
   "outputs": [],
   "source": [
    "# Lines below will give you a hint or solution code\n",
    "#step_2.hint()\n",
    "#step_2.solution()"
   ]
  },
  {
   "cell_type": "markdown",
   "id": "c7916fa1",
   "metadata": {
    "papermill": {
     "duration": 0.006482,
     "end_time": "2023-03-19T16:35:53.959013",
     "exception": false,
     "start_time": "2023-03-19T16:35:53.952531",
     "status": "completed"
    },
    "tags": []
   },
   "source": [
    "# Step 3: Break the model\n",
    "\n",
    "In this step, you will create a model that performs worse than the original model in Step 1.  This will help you to develop your intuition for how to set parameters.  You might even find that you accidentally get better performance, which is ultimately a nice problem to have and a valuable learning experience!\n",
    "- Begin by setting `my_model_3` to an XGBoost model, using the [XGBRegressor](https://xgboost.readthedocs.io/en/latest/python/python_api.html#xgboost.XGBRegressor) class.  Use what you learned in the previous tutorial to figure out how to change the default parameters (like `n_estimators` and `learning_rate`) to design a model to get high MAE.\n",
    "- Then, fit the model to the training data in `X_train` and `y_train`.\n",
    "- Set `predictions_3` to the model's predictions for the validation data.  Recall that the validation features are stored in `X_valid`.\n",
    "- Finally, use the `mean_absolute_error()` function to calculate the mean absolute error (MAE) corresponding to the predictions on the validation set.  Recall that the labels for the validation data are stored in `y_valid`.\n",
    "\n",
    "In order for this step to be marked correct, your model in `my_model_3` must attain higher MAE than the model in `my_model_1`. "
   ]
  },
  {
   "cell_type": "code",
   "execution_count": 11,
   "id": "462f7e1b",
   "metadata": {
    "execution": {
     "iopub.execute_input": "2023-03-19T16:35:53.974984Z",
     "iopub.status.busy": "2023-03-19T16:35:53.973850Z",
     "iopub.status.idle": "2023-03-19T16:35:54.737916Z",
     "shell.execute_reply": "2023-03-19T16:35:54.736705Z"
    },
    "papermill": {
     "duration": 0.775069,
     "end_time": "2023-03-19T16:35:54.740806",
     "exception": false,
     "start_time": "2023-03-19T16:35:53.965737",
     "status": "completed"
    },
    "tags": []
   },
   "outputs": [
    {
     "name": "stdout",
     "output_type": "stream",
     "text": [
      "[0]\tvalidation_0-rmse:145129.95260\n",
      "[1]\tvalidation_0-rmse:107597.71764\n",
      "[2]\tvalidation_0-rmse:82417.09911\n",
      "[3]\tvalidation_0-rmse:64259.48891\n",
      "[4]\tvalidation_0-rmse:53146.37421\n",
      "[5]\tvalidation_0-rmse:46419.66736\n",
      "[6]\tvalidation_0-rmse:42080.97001\n",
      "[7]\tvalidation_0-rmse:39979.35529\n",
      "[8]\tvalidation_0-rmse:38523.28143\n",
      "[9]\tvalidation_0-rmse:36958.04170\n",
      "[10]\tvalidation_0-rmse:36515.66959\n",
      "[11]\tvalidation_0-rmse:35492.71695\n"
     ]
    },
    {
     "name": "stderr",
     "output_type": "stream",
     "text": [
      "/opt/conda/lib/python3.7/site-packages/xgboost/sklearn.py:797: UserWarning: `early_stopping_rounds` in `fit` method is deprecated for better compatibility with scikit-learn, use `early_stopping_rounds` in constructor or`set_params` instead.\n",
      "  UserWarning,\n"
     ]
    },
    {
     "name": "stdout",
     "output_type": "stream",
     "text": [
      "[12]\tvalidation_0-rmse:35137.79524\n",
      "[13]\tvalidation_0-rmse:34596.65518\n",
      "[14]\tvalidation_0-rmse:34449.58082\n",
      "[15]\tvalidation_0-rmse:33990.75388\n",
      "[16]\tvalidation_0-rmse:33589.36610\n",
      "[17]\tvalidation_0-rmse:33454.28714\n",
      "[18]\tvalidation_0-rmse:33204.81053\n",
      "[19]\tvalidation_0-rmse:33181.33916\n",
      "[20]\tvalidation_0-rmse:33049.37532\n",
      "[21]\tvalidation_0-rmse:32886.27872\n",
      "[22]\tvalidation_0-rmse:32905.89849\n",
      "[23]\tvalidation_0-rmse:32604.92952\n",
      "[24]\tvalidation_0-rmse:32444.80343\n",
      "[25]\tvalidation_0-rmse:32474.17102\n",
      "[26]\tvalidation_0-rmse:32422.08359\n",
      "[27]\tvalidation_0-rmse:32428.04016\n",
      "[28]\tvalidation_0-rmse:32367.79506\n",
      "[29]\tvalidation_0-rmse:32305.41176\n",
      "[30]\tvalidation_0-rmse:32304.48255\n",
      "[31]\tvalidation_0-rmse:32310.47481\n",
      "[32]\tvalidation_0-rmse:32265.87908\n",
      "[33]\tvalidation_0-rmse:32240.68458\n",
      "[34]\tvalidation_0-rmse:32216.48470\n",
      "[35]\tvalidation_0-rmse:32247.53692\n",
      "[36]\tvalidation_0-rmse:32237.62183\n",
      "[37]\tvalidation_0-rmse:32196.69102\n",
      "[38]\tvalidation_0-rmse:32201.07452\n",
      "[39]\tvalidation_0-rmse:32170.65668\n",
      "[40]\tvalidation_0-rmse:32131.33247\n",
      "[41]\tvalidation_0-rmse:32163.98732\n",
      "[42]\tvalidation_0-rmse:32186.01027\n",
      "[43]\tvalidation_0-rmse:32137.55531\n",
      "[44]\tvalidation_0-rmse:32136.21737\n"
     ]
    },
    {
     "data": {
      "application/javascript": [
       "parent.postMessage({\"jupyterEvent\": \"custom.exercise_interaction\", \"data\": {\"outcomeType\": 1, \"valueTowardsCompletion\": 0.5, \"interactionType\": 1, \"questionType\": 2, \"questionId\": \"3_Model3\", \"learnToolsVersion\": \"0.3.4\", \"failureMessage\": \"\", \"exceptionClass\": \"\", \"trace\": \"\"}}, \"*\")"
      ],
      "text/plain": [
       "<IPython.core.display.Javascript object>"
      ]
     },
     "metadata": {},
     "output_type": "display_data"
    },
    {
     "data": {
      "text/markdown": [
       "<span style=\"color:#33cc33\">Correct</span>"
      ],
      "text/plain": [
       "Correct"
      ]
     },
     "metadata": {},
     "output_type": "display_data"
    }
   ],
   "source": [
    "# Define the model\n",
    "my_model_3 = XGBRegressor(n_estimators = 500)\n",
    "\n",
    "# Fit the model\n",
    "my_model_3.fit(X_train, y_train,early_stopping_rounds = 5,\n",
    "              eval_set = [(X_valid, y_valid)]) # Your code here\n",
    "\n",
    "# Get predictions\n",
    "predictions_3 = my_model_3.predict(X_valid)\n",
    "\n",
    "# Calculate MAE\n",
    "mae_3 = mean_absolute_error(predictions_3, y_valid)\n",
    "\n",
    "# Uncomment to print MAE\n",
    "#print(\"Mean Absolute Error:\" , mae_3)\n",
    "\n",
    "# Check your answer\n",
    "step_3.check()"
   ]
  },
  {
   "cell_type": "code",
   "execution_count": 12,
   "id": "4d781034",
   "metadata": {
    "execution": {
     "iopub.execute_input": "2023-03-19T16:35:54.764651Z",
     "iopub.status.busy": "2023-03-19T16:35:54.763518Z",
     "iopub.status.idle": "2023-03-19T16:35:54.768069Z",
     "shell.execute_reply": "2023-03-19T16:35:54.766985Z"
    },
    "papermill": {
     "duration": 0.018546,
     "end_time": "2023-03-19T16:35:54.770801",
     "exception": false,
     "start_time": "2023-03-19T16:35:54.752255",
     "status": "completed"
    },
    "tags": []
   },
   "outputs": [],
   "source": [
    "# Lines below will give you a hint or solution code\n",
    "#step_3.hint()\n",
    "#step_3.solution()"
   ]
  },
  {
   "cell_type": "markdown",
   "id": "db8ac52a",
   "metadata": {
    "papermill": {
     "duration": 0.00953,
     "end_time": "2023-03-19T16:35:54.790132",
     "exception": false,
     "start_time": "2023-03-19T16:35:54.780602",
     "status": "completed"
    },
    "tags": []
   },
   "source": [
    "# Keep going\n",
    "\n",
    "Continue to learn about **[data leakage](https://www.kaggle.com/alexisbcook/data-leakage)**.  This is an important issue for a data scientist to understand, and it has the potential to ruin your models in subtle and dangerous ways!"
   ]
  },
  {
   "cell_type": "markdown",
   "id": "0e56493d",
   "metadata": {
    "papermill": {
     "duration": 0.009352,
     "end_time": "2023-03-19T16:35:54.809299",
     "exception": false,
     "start_time": "2023-03-19T16:35:54.799947",
     "status": "completed"
    },
    "tags": []
   },
   "source": [
    "---\n",
    "\n",
    "\n",
    "\n",
    "\n",
    "*Have questions or comments? Visit the [course discussion forum](https://www.kaggle.com/learn/intermediate-machine-learning/discussion) to chat with other learners.*"
   ]
  }
 ],
 "metadata": {
  "kernelspec": {
   "display_name": "Python 3",
   "language": "python",
   "name": "python3"
  },
  "language_info": {
   "codemirror_mode": {
    "name": "ipython",
    "version": 3
   },
   "file_extension": ".py",
   "mimetype": "text/x-python",
   "name": "python",
   "nbconvert_exporter": "python",
   "pygments_lexer": "ipython3",
   "version": "3.7.12"
  },
  "papermill": {
   "default_parameters": {},
   "duration": 17.849498,
   "end_time": "2023-03-19T16:35:55.643252",
   "environment_variables": {},
   "exception": null,
   "input_path": "__notebook__.ipynb",
   "output_path": "__notebook__.ipynb",
   "parameters": {},
   "start_time": "2023-03-19T16:35:37.793754",
   "version": "2.4.0"
  }
 },
 "nbformat": 4,
 "nbformat_minor": 5
}
